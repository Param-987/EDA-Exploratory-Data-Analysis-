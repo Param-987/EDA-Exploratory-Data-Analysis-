{
 "cells": [
  {
   "cell_type": "markdown",
   "id": "5fcf2eb4",
   "metadata": {},
   "source": [
    "We are going to perform EDA + Model formation of a Wine.csv dataset "
   ]
  },
  {
   "cell_type": "code",
   "execution_count": 2,
   "id": "773549ca",
   "metadata": {},
   "outputs": [
    {
     "name": "stdout",
     "output_type": "stream",
     "text": [
      "(1143, 13)\n"
     ]
    },
    {
     "data": {
      "text/html": [
       "<div>\n",
       "<style scoped>\n",
       "    .dataframe tbody tr th:only-of-type {\n",
       "        vertical-align: middle;\n",
       "    }\n",
       "\n",
       "    .dataframe tbody tr th {\n",
       "        vertical-align: top;\n",
       "    }\n",
       "\n",
       "    .dataframe thead th {\n",
       "        text-align: right;\n",
       "    }\n",
       "</style>\n",
       "<table border=\"1\" class=\"dataframe\">\n",
       "  <thead>\n",
       "    <tr style=\"text-align: right;\">\n",
       "      <th></th>\n",
       "      <th>fixed acidity</th>\n",
       "      <th>volatile acidity</th>\n",
       "      <th>citric acid</th>\n",
       "      <th>residual sugar</th>\n",
       "      <th>chlorides</th>\n",
       "      <th>free sulfur dioxide</th>\n",
       "      <th>total sulfur dioxide</th>\n",
       "      <th>density</th>\n",
       "      <th>pH</th>\n",
       "      <th>sulphates</th>\n",
       "      <th>alcohol</th>\n",
       "      <th>quality</th>\n",
       "      <th>Id</th>\n",
       "    </tr>\n",
       "  </thead>\n",
       "  <tbody>\n",
       "    <tr>\n",
       "      <th>0</th>\n",
       "      <td>7.4</td>\n",
       "      <td>0.70</td>\n",
       "      <td>0.00</td>\n",
       "      <td>1.9</td>\n",
       "      <td>0.076</td>\n",
       "      <td>11.0</td>\n",
       "      <td>34.0</td>\n",
       "      <td>0.9978</td>\n",
       "      <td>3.51</td>\n",
       "      <td>0.56</td>\n",
       "      <td>9.4</td>\n",
       "      <td>5</td>\n",
       "      <td>0</td>\n",
       "    </tr>\n",
       "    <tr>\n",
       "      <th>1</th>\n",
       "      <td>7.8</td>\n",
       "      <td>0.88</td>\n",
       "      <td>0.00</td>\n",
       "      <td>2.6</td>\n",
       "      <td>0.098</td>\n",
       "      <td>25.0</td>\n",
       "      <td>67.0</td>\n",
       "      <td>0.9968</td>\n",
       "      <td>3.20</td>\n",
       "      <td>0.68</td>\n",
       "      <td>9.8</td>\n",
       "      <td>5</td>\n",
       "      <td>1</td>\n",
       "    </tr>\n",
       "    <tr>\n",
       "      <th>2</th>\n",
       "      <td>7.8</td>\n",
       "      <td>0.76</td>\n",
       "      <td>0.04</td>\n",
       "      <td>2.3</td>\n",
       "      <td>0.092</td>\n",
       "      <td>15.0</td>\n",
       "      <td>54.0</td>\n",
       "      <td>0.9970</td>\n",
       "      <td>3.26</td>\n",
       "      <td>0.65</td>\n",
       "      <td>9.8</td>\n",
       "      <td>5</td>\n",
       "      <td>2</td>\n",
       "    </tr>\n",
       "    <tr>\n",
       "      <th>3</th>\n",
       "      <td>11.2</td>\n",
       "      <td>0.28</td>\n",
       "      <td>0.56</td>\n",
       "      <td>1.9</td>\n",
       "      <td>0.075</td>\n",
       "      <td>17.0</td>\n",
       "      <td>60.0</td>\n",
       "      <td>0.9980</td>\n",
       "      <td>3.16</td>\n",
       "      <td>0.58</td>\n",
       "      <td>9.8</td>\n",
       "      <td>6</td>\n",
       "      <td>3</td>\n",
       "    </tr>\n",
       "    <tr>\n",
       "      <th>4</th>\n",
       "      <td>7.4</td>\n",
       "      <td>0.70</td>\n",
       "      <td>0.00</td>\n",
       "      <td>1.9</td>\n",
       "      <td>0.076</td>\n",
       "      <td>11.0</td>\n",
       "      <td>34.0</td>\n",
       "      <td>0.9978</td>\n",
       "      <td>3.51</td>\n",
       "      <td>0.56</td>\n",
       "      <td>9.4</td>\n",
       "      <td>5</td>\n",
       "      <td>4</td>\n",
       "    </tr>\n",
       "  </tbody>\n",
       "</table>\n",
       "</div>"
      ],
      "text/plain": [
       "   fixed acidity  volatile acidity  citric acid  residual sugar  chlorides  \\\n",
       "0            7.4              0.70         0.00             1.9      0.076   \n",
       "1            7.8              0.88         0.00             2.6      0.098   \n",
       "2            7.8              0.76         0.04             2.3      0.092   \n",
       "3           11.2              0.28         0.56             1.9      0.075   \n",
       "4            7.4              0.70         0.00             1.9      0.076   \n",
       "\n",
       "   free sulfur dioxide  total sulfur dioxide  density    pH  sulphates  \\\n",
       "0                 11.0                  34.0   0.9978  3.51       0.56   \n",
       "1                 25.0                  67.0   0.9968  3.20       0.68   \n",
       "2                 15.0                  54.0   0.9970  3.26       0.65   \n",
       "3                 17.0                  60.0   0.9980  3.16       0.58   \n",
       "4                 11.0                  34.0   0.9978  3.51       0.56   \n",
       "\n",
       "   alcohol  quality  Id  \n",
       "0      9.4        5   0  \n",
       "1      9.8        5   1  \n",
       "2      9.8        5   2  \n",
       "3      9.8        6   3  \n",
       "4      9.4        5   4  "
      ]
     },
     "execution_count": 2,
     "metadata": {},
     "output_type": "execute_result"
    }
   ],
   "source": [
    "import pandas as pd\n",
    "import matplotlib.pyplot as plt\n",
    "%matplotlib inline\n",
    "df = pd.read_csv(\"WineQt.csv\")\n",
    "\n",
    "\n",
    "print(df.shape) # We have 13 columns and 1143 instances of them\n",
    "df.head()#to show the top 5 instances\n",
    "# Quality features is our target variable else are my Independent Features(0-10)\n"
   ]
  },
  {
   "cell_type": "markdown",
   "id": "f5a2cf15",
   "metadata": {},
   "source": [
    "The WineQt.csv file has 1143 instances of data and 13 features , out of which Quality is the target(dependent) features and else are independent features on which the quality of wine depends"
   ]
  },
  {
   "cell_type": "code",
   "execution_count": 3,
   "id": "a290a517",
   "metadata": {},
   "outputs": [
    {
     "name": "stdout",
     "output_type": "stream",
     "text": [
      "Index(['fixed acidity', 'volatile acidity', 'citric acid', 'residual sugar',\n",
      "       'chlorides', 'free sulfur dioxide', 'total sulfur dioxide', 'density',\n",
      "       'pH', 'sulphates', 'alcohol', 'quality', 'Id'],\n",
      "      dtype='object')\n"
     ]
    },
    {
     "data": {
      "text/html": [
       "<div>\n",
       "<style scoped>\n",
       "    .dataframe tbody tr th:only-of-type {\n",
       "        vertical-align: middle;\n",
       "    }\n",
       "\n",
       "    .dataframe tbody tr th {\n",
       "        vertical-align: top;\n",
       "    }\n",
       "\n",
       "    .dataframe thead th {\n",
       "        text-align: right;\n",
       "    }\n",
       "</style>\n",
       "<table border=\"1\" class=\"dataframe\">\n",
       "  <thead>\n",
       "    <tr style=\"text-align: right;\">\n",
       "      <th></th>\n",
       "      <th>fixed acidity</th>\n",
       "      <th>volatile acidity</th>\n",
       "      <th>citric acid</th>\n",
       "      <th>residual sugar</th>\n",
       "      <th>chlorides</th>\n",
       "      <th>free sulfur dioxide</th>\n",
       "      <th>total sulfur dioxide</th>\n",
       "      <th>density</th>\n",
       "      <th>pH</th>\n",
       "      <th>sulphates</th>\n",
       "      <th>alcohol</th>\n",
       "      <th>quality</th>\n",
       "      <th>Id</th>\n",
       "    </tr>\n",
       "  </thead>\n",
       "  <tbody>\n",
       "    <tr>\n",
       "      <th>count</th>\n",
       "      <td>1143.000000</td>\n",
       "      <td>1143.000000</td>\n",
       "      <td>1143.000000</td>\n",
       "      <td>1143.000000</td>\n",
       "      <td>1143.000000</td>\n",
       "      <td>1143.000000</td>\n",
       "      <td>1143.000000</td>\n",
       "      <td>1143.000000</td>\n",
       "      <td>1143.000000</td>\n",
       "      <td>1143.000000</td>\n",
       "      <td>1143.000000</td>\n",
       "      <td>1143.000000</td>\n",
       "      <td>1143.000000</td>\n",
       "    </tr>\n",
       "    <tr>\n",
       "      <th>mean</th>\n",
       "      <td>8.311111</td>\n",
       "      <td>0.531339</td>\n",
       "      <td>0.268364</td>\n",
       "      <td>2.532152</td>\n",
       "      <td>0.086933</td>\n",
       "      <td>15.615486</td>\n",
       "      <td>45.914698</td>\n",
       "      <td>0.996730</td>\n",
       "      <td>3.311015</td>\n",
       "      <td>0.657708</td>\n",
       "      <td>10.442111</td>\n",
       "      <td>5.657043</td>\n",
       "      <td>804.969379</td>\n",
       "    </tr>\n",
       "    <tr>\n",
       "      <th>std</th>\n",
       "      <td>1.747595</td>\n",
       "      <td>0.179633</td>\n",
       "      <td>0.196686</td>\n",
       "      <td>1.355917</td>\n",
       "      <td>0.047267</td>\n",
       "      <td>10.250486</td>\n",
       "      <td>32.782130</td>\n",
       "      <td>0.001925</td>\n",
       "      <td>0.156664</td>\n",
       "      <td>0.170399</td>\n",
       "      <td>1.082196</td>\n",
       "      <td>0.805824</td>\n",
       "      <td>463.997116</td>\n",
       "    </tr>\n",
       "    <tr>\n",
       "      <th>min</th>\n",
       "      <td>4.600000</td>\n",
       "      <td>0.120000</td>\n",
       "      <td>0.000000</td>\n",
       "      <td>0.900000</td>\n",
       "      <td>0.012000</td>\n",
       "      <td>1.000000</td>\n",
       "      <td>6.000000</td>\n",
       "      <td>0.990070</td>\n",
       "      <td>2.740000</td>\n",
       "      <td>0.330000</td>\n",
       "      <td>8.400000</td>\n",
       "      <td>3.000000</td>\n",
       "      <td>0.000000</td>\n",
       "    </tr>\n",
       "    <tr>\n",
       "      <th>25%</th>\n",
       "      <td>7.100000</td>\n",
       "      <td>0.392500</td>\n",
       "      <td>0.090000</td>\n",
       "      <td>1.900000</td>\n",
       "      <td>0.070000</td>\n",
       "      <td>7.000000</td>\n",
       "      <td>21.000000</td>\n",
       "      <td>0.995570</td>\n",
       "      <td>3.205000</td>\n",
       "      <td>0.550000</td>\n",
       "      <td>9.500000</td>\n",
       "      <td>5.000000</td>\n",
       "      <td>411.000000</td>\n",
       "    </tr>\n",
       "    <tr>\n",
       "      <th>50%</th>\n",
       "      <td>7.900000</td>\n",
       "      <td>0.520000</td>\n",
       "      <td>0.250000</td>\n",
       "      <td>2.200000</td>\n",
       "      <td>0.079000</td>\n",
       "      <td>13.000000</td>\n",
       "      <td>37.000000</td>\n",
       "      <td>0.996680</td>\n",
       "      <td>3.310000</td>\n",
       "      <td>0.620000</td>\n",
       "      <td>10.200000</td>\n",
       "      <td>6.000000</td>\n",
       "      <td>794.000000</td>\n",
       "    </tr>\n",
       "    <tr>\n",
       "      <th>75%</th>\n",
       "      <td>9.100000</td>\n",
       "      <td>0.640000</td>\n",
       "      <td>0.420000</td>\n",
       "      <td>2.600000</td>\n",
       "      <td>0.090000</td>\n",
       "      <td>21.000000</td>\n",
       "      <td>61.000000</td>\n",
       "      <td>0.997845</td>\n",
       "      <td>3.400000</td>\n",
       "      <td>0.730000</td>\n",
       "      <td>11.100000</td>\n",
       "      <td>6.000000</td>\n",
       "      <td>1209.500000</td>\n",
       "    </tr>\n",
       "    <tr>\n",
       "      <th>max</th>\n",
       "      <td>15.900000</td>\n",
       "      <td>1.580000</td>\n",
       "      <td>1.000000</td>\n",
       "      <td>15.500000</td>\n",
       "      <td>0.611000</td>\n",
       "      <td>68.000000</td>\n",
       "      <td>289.000000</td>\n",
       "      <td>1.003690</td>\n",
       "      <td>4.010000</td>\n",
       "      <td>2.000000</td>\n",
       "      <td>14.900000</td>\n",
       "      <td>8.000000</td>\n",
       "      <td>1597.000000</td>\n",
       "    </tr>\n",
       "  </tbody>\n",
       "</table>\n",
       "</div>"
      ],
      "text/plain": [
       "       fixed acidity  volatile acidity  citric acid  residual sugar  \\\n",
       "count    1143.000000       1143.000000  1143.000000     1143.000000   \n",
       "mean        8.311111          0.531339     0.268364        2.532152   \n",
       "std         1.747595          0.179633     0.196686        1.355917   \n",
       "min         4.600000          0.120000     0.000000        0.900000   \n",
       "25%         7.100000          0.392500     0.090000        1.900000   \n",
       "50%         7.900000          0.520000     0.250000        2.200000   \n",
       "75%         9.100000          0.640000     0.420000        2.600000   \n",
       "max        15.900000          1.580000     1.000000       15.500000   \n",
       "\n",
       "         chlorides  free sulfur dioxide  total sulfur dioxide      density  \\\n",
       "count  1143.000000          1143.000000           1143.000000  1143.000000   \n",
       "mean      0.086933            15.615486             45.914698     0.996730   \n",
       "std       0.047267            10.250486             32.782130     0.001925   \n",
       "min       0.012000             1.000000              6.000000     0.990070   \n",
       "25%       0.070000             7.000000             21.000000     0.995570   \n",
       "50%       0.079000            13.000000             37.000000     0.996680   \n",
       "75%       0.090000            21.000000             61.000000     0.997845   \n",
       "max       0.611000            68.000000            289.000000     1.003690   \n",
       "\n",
       "                pH    sulphates      alcohol      quality           Id  \n",
       "count  1143.000000  1143.000000  1143.000000  1143.000000  1143.000000  \n",
       "mean      3.311015     0.657708    10.442111     5.657043   804.969379  \n",
       "std       0.156664     0.170399     1.082196     0.805824   463.997116  \n",
       "min       2.740000     0.330000     8.400000     3.000000     0.000000  \n",
       "25%       3.205000     0.550000     9.500000     5.000000   411.000000  \n",
       "50%       3.310000     0.620000    10.200000     6.000000   794.000000  \n",
       "75%       3.400000     0.730000    11.100000     6.000000  1209.500000  \n",
       "max       4.010000     2.000000    14.900000     8.000000  1597.000000  "
      ]
     },
     "execution_count": 3,
     "metadata": {},
     "output_type": "execute_result"
    }
   ],
   "source": [
    "print(df.columns)\n",
    "df.describe()"
   ]
  },
  {
   "cell_type": "markdown",
   "id": "859009d9",
   "metadata": {},
   "source": [
    "df.columns displays all the coloumns(Features of the dataset) and df.describe give a short summary of the dataset "
   ]
  },
  {
   "cell_type": "code",
   "execution_count": 4,
   "id": "0a286cf4",
   "metadata": {},
   "outputs": [
    {
     "data": {
      "text/plain": [
       "fixed acidity           0\n",
       "volatile acidity        0\n",
       "citric acid             0\n",
       "residual sugar          0\n",
       "chlorides               0\n",
       "free sulfur dioxide     0\n",
       "total sulfur dioxide    0\n",
       "density                 0\n",
       "pH                      0\n",
       "sulphates               0\n",
       "alcohol                 0\n",
       "quality                 0\n",
       "Id                      0\n",
       "dtype: int64"
      ]
     },
     "execution_count": 4,
     "metadata": {},
     "output_type": "execute_result"
    }
   ],
   "source": [
    "df.isnull().sum() # Check for NaN Values "
   ]
  },
  {
   "cell_type": "markdown",
   "id": "24f991f0",
   "metadata": {},
   "source": [
    "df.isnull.sum helps us to get the info of null/NaN values in the dataframe.Since the sum is 0 for all the features i.e we dont have any null values in our Dataframe.And in the dataframe we have all the numerical features , no Categorical variable"
   ]
  },
  {
   "cell_type": "code",
   "execution_count": 5,
   "id": "032b134d",
   "metadata": {},
   "outputs": [
    {
     "data": {
      "text/plain": [
       "volatile acidity       -0.407394\n",
       "total sulfur dioxide   -0.183339\n",
       "density                -0.175208\n",
       "chlorides              -0.124085\n",
       "free sulfur dioxide    -0.063260\n",
       "pH                     -0.052453\n",
       "residual sugar          0.022002\n",
       "Id                      0.069708\n",
       "fixed acidity           0.121970\n",
       "citric acid             0.240821\n",
       "sulphates               0.257710\n",
       "alcohol                 0.484866\n",
       "quality                 1.000000\n",
       "Name: quality, dtype: float64"
      ]
     },
     "execution_count": 5,
     "metadata": {},
     "output_type": "execute_result"
    }
   ],
   "source": [
    "df.corr().sort_values(\"quality\")[\"quality\"]"
   ]
  },
  {
   "cell_type": "markdown",
   "id": "afc727c9",
   "metadata": {},
   "source": [
    "df.corr() give displays the correlation(the dependence between two variables) matrix . 2 Variables have correlation in the range [-1,1] .Correlation values depicts the relation/dependence of 2 variables . \n",
    "If the corr value is close to 1 , it means they are almost directly proportional while if the value is close to 0 , it mean they aren't dependent on each other and corr value close to -1 depicts they are inversely proportional to each other .\n",
    "\n",
    "Since we are seeing the correlation of target variable (\"Quality of wine\") with all other independent variables So correlation values close to 0 i.e [-0.1,0.1] are not correlated so we can drop them ."
   ]
  },
  {
   "cell_type": "code",
   "execution_count": 6,
   "id": "bfcda9b9",
   "metadata": {},
   "outputs": [
    {
     "name": "stdout",
     "output_type": "stream",
     "text": [
      "(1143, 9)\n"
     ]
    }
   ],
   "source": [
    "import numpy as np\n",
    "col_rem = pd.Series(np.abs((df.corr()[\"quality\"])) <=0.1) # Get the columns having corr in range [-0.1,0.1]\n",
    "Col_to_remove = col_rem.loc[col_rem].index\n",
    "# print(X_val.shape)\n",
    "df.drop(columns = Col_to_remove,inplace=True) #Applying the drop \n",
    "print(df.shape)"
   ]
  },
  {
   "cell_type": "markdown",
   "id": "8548d3e2",
   "metadata": {},
   "source": [
    "After removing those unwanted columns we are limited with only 9 key features which defines the quality of Wine."
   ]
  },
  {
   "cell_type": "code",
   "execution_count": 7,
   "id": "af23eb3a",
   "metadata": {},
   "outputs": [
    {
     "data": {
      "text/plain": [
       "<AxesSubplot:>"
      ]
     },
     "execution_count": 7,
     "metadata": {},
     "output_type": "execute_result"
    },
    {
     "data": {
      "image/png": "[encoded data removed]",
      "text/plain": [
       "<Figure size 720x432 with 2 Axes>"
      ]
     },
     "metadata": {
      "needs_background": "light"
     },
     "output_type": "display_data"
    }
   ],
   "source": [
    "import matplotlib.pyplot as plt\n",
    "import seaborn as sns\n",
    "plt.subplots(figsize=(10,6))\n",
    "sns.heatmap(df.corr(),annot=True)\n",
    "\n",
    "\n",
    "\n",
    "## length(1000) with, no oo bed(2,3) \n",
    "\n",
    "\n"
   ]
  },
  {
   "cell_type": "markdown",
   "id": "160591ee",
   "metadata": {},
   "source": [
    "Heatmap above show a colurful representation of correlation matrix of features with each other.the Correlation values defines the intensity of colur of cells.Correlation closer to 1 will be lighter while correlation closer to -1 will be darker.          \n",
    "Some inferences can be gathered from the above map like Alcohol is lighter than water , thus adding alcohol decreases the density of Wine."
   ]
  },
  {
   "cell_type": "code",
   "execution_count": 8,
   "id": "d07b0f90",
   "metadata": {},
   "outputs": [
    {
     "data": {
      "text/plain": [
       "<AxesSubplot:>"
      ]
     },
     "execution_count": 8,
     "metadata": {},
     "output_type": "execute_result"
    },
    {
     "data": {
      "image/png": "[encoded data removed]",
      "text/plain": [
       "<Figure size 432x288 with 1 Axes>"
      ]
     },
     "metadata": {
      "needs_background": "light"
     },
     "output_type": "display_data"
    }
   ],
   "source": [
    "Y = df['quality'].value_counts()\n",
    "Labels = np.sort(df['quality'].unique())\n",
    "df['quality'].hist()"
   ]
  },
  {
   "cell_type": "markdown",
   "id": "5242c293",
   "metadata": {},
   "source": [
    "Wine is graded by its quality which ranges from (1,10). But our data is highly imbalanced(wines of quality score (1,2,9,10) are not even present). Our Machine Learning is supposed to  get heaviy biased on prediction."
   ]
  },
  {
   "cell_type": "markdown",
   "id": "8b138dec",
   "metadata": {},
   "source": [
    "## Machine Learning Algorithms to train the Models and make predictions"
   ]
  },
  {
   "cell_type": "code",
   "execution_count": 16,
   "id": "7e0b443f",
   "metadata": {},
   "outputs": [
    {
     "name": "stdout",
     "output_type": "stream",
     "text": [
      "The Percentage of categories are :\n",
      "quality\n",
      "5          42.257218\n",
      "6          40.419948\n",
      "7          12.510936\n",
      "4           2.887139\n",
      "8           1.399825\n",
      "3           0.524934\n",
      "dtype: float64\n",
      "Int64Index([483, 462, 143, 33, 16, 6], dtype='int64')\n"
     ]
    }
   ],
   "source": [
    "# Seperating out our independent and dependent features\n",
    "y = df[[\"quality\"]]\n",
    "print(\"The Percentage of categories are :\")\n",
    "print(y.value_counts()*100/(y.value_counts().sum()))\n",
    "print(Y.value_counts().index)"
   ]
  },
  {
   "cell_type": "markdown",
   "id": "12232daf",
   "metadata": {},
   "source": [
    "Most of the features are scaled in different units.Many algorithms which uses distance as a parameter for computation(KNN, SVM) will get biased to the features having higher numerical values. One way to avoid this is to scale all the features to the same unit. Sklearn is a python Module which provide a tool named StandardScaler which will change the distribution of features to Gaussian Distribution(mean = 0, Std Deviation = 1)."
   ]
  },
  {
   "cell_type": "code",
   "execution_count": 17,
   "id": "a27e62f3",
   "metadata": {},
   "outputs": [
    {
     "data": {
      "text/html": [
       "<div>\n",
       "<style scoped>\n",
       "    .dataframe tbody tr th:only-of-type {\n",
       "        vertical-align: middle;\n",
       "    }\n",
       "\n",
       "    .dataframe tbody tr th {\n",
       "        vertical-align: top;\n",
       "    }\n",
       "\n",
       "    .dataframe thead th {\n",
       "        text-align: right;\n",
       "    }\n",
       "</style>\n",
       "<table border=\"1\" class=\"dataframe\">\n",
       "  <thead>\n",
       "    <tr style=\"text-align: right;\">\n",
       "      <th></th>\n",
       "      <th>fixed acidity</th>\n",
       "      <th>volatile acidity</th>\n",
       "      <th>citric acid</th>\n",
       "      <th>chlorides</th>\n",
       "      <th>total sulfur dioxide</th>\n",
       "      <th>density</th>\n",
       "      <th>sulphates</th>\n",
       "      <th>alcohol</th>\n",
       "    </tr>\n",
       "  </thead>\n",
       "  <tbody>\n",
       "    <tr>\n",
       "      <th>0</th>\n",
       "      <td>-0.521580</td>\n",
       "      <td>0.939332</td>\n",
       "      <td>-1.365027</td>\n",
       "      <td>-0.231395</td>\n",
       "      <td>-0.363610</td>\n",
       "      <td>0.555854</td>\n",
       "      <td>-0.573658</td>\n",
       "      <td>-0.963382</td>\n",
       "    </tr>\n",
       "    <tr>\n",
       "      <th>1</th>\n",
       "      <td>-0.292593</td>\n",
       "      <td>1.941813</td>\n",
       "      <td>-1.365027</td>\n",
       "      <td>0.234247</td>\n",
       "      <td>0.643477</td>\n",
       "      <td>0.036165</td>\n",
       "      <td>0.130881</td>\n",
       "      <td>-0.593601</td>\n",
       "    </tr>\n",
       "    <tr>\n",
       "      <th>2</th>\n",
       "      <td>-0.292593</td>\n",
       "      <td>1.273492</td>\n",
       "      <td>-1.161568</td>\n",
       "      <td>0.107253</td>\n",
       "      <td>0.246745</td>\n",
       "      <td>0.140103</td>\n",
       "      <td>-0.045254</td>\n",
       "      <td>-0.593601</td>\n",
       "    </tr>\n",
       "    <tr>\n",
       "      <th>3</th>\n",
       "      <td>1.653789</td>\n",
       "      <td>-1.399789</td>\n",
       "      <td>1.483400</td>\n",
       "      <td>-0.252560</td>\n",
       "      <td>0.429852</td>\n",
       "      <td>0.659792</td>\n",
       "      <td>-0.456235</td>\n",
       "      <td>-0.593601</td>\n",
       "    </tr>\n",
       "    <tr>\n",
       "      <th>4</th>\n",
       "      <td>-0.521580</td>\n",
       "      <td>0.939332</td>\n",
       "      <td>-1.365027</td>\n",
       "      <td>-0.231395</td>\n",
       "      <td>-0.363610</td>\n",
       "      <td>0.555854</td>\n",
       "      <td>-0.573658</td>\n",
       "      <td>-0.963382</td>\n",
       "    </tr>\n",
       "  </tbody>\n",
       "</table>\n",
       "</div>"
      ],
      "text/plain": [
       "   fixed acidity  volatile acidity  citric acid  chlorides  \\\n",
       "0      -0.521580          0.939332    -1.365027  -0.231395   \n",
       "1      -0.292593          1.941813    -1.365027   0.234247   \n",
       "2      -0.292593          1.273492    -1.161568   0.107253   \n",
       "3       1.653789         -1.399789     1.483400  -0.252560   \n",
       "4      -0.521580          0.939332    -1.365027  -0.231395   \n",
       "\n",
       "   total sulfur dioxide   density  sulphates   alcohol  \n",
       "0             -0.363610  0.555854  -0.573658 -0.963382  \n",
       "1              0.643477  0.036165   0.130881 -0.593601  \n",
       "2              0.246745  0.140103  -0.045254 -0.593601  \n",
       "3              0.429852  0.659792  -0.456235 -0.593601  \n",
       "4             -0.363610  0.555854  -0.573658 -0.963382  "
      ]
     },
     "execution_count": 17,
     "metadata": {},
     "output_type": "execute_result"
    }
   ],
   "source": [
    "from sklearn.preprocessing import StandardScaler  #importing from sklearn\n",
    "scaler = StandardScaler() #  Creating an instance of it.\n",
    "X = pd.DataFrame(scaler.fit_transform(df),columns = df.columns)\n",
    "X.drop(columns =[\"quality\"],inplace=True)\n",
    "X.head()  # My independent variables "
   ]
  },
  {
   "cell_type": "code",
   "execution_count": 18,
   "id": "41485e99",
   "metadata": {},
   "outputs": [],
   "source": [
    "from sklearn.model_selection import train_test_split\n",
    "from sklearn.naive_bayes import GaussianNB\n",
    "from sklearn.tree import DecisionTreeClassifier\n",
    "from sklearn.neighbors import KNeighborsClassifier\n",
    "from sklearn.metrics import classification_report,confusion_matrix,ConfusionMatrixDisplay\n",
    "from sklearn.svm import SVC,LinearSVC\n",
    "from sklearn.ensemble import RandomForestClassifier,ExtraTreesClassifier,AdaBoostClassifier,GradientBoostingClassifier,BaggingClassifier\n"
   ]
  },
  {
   "cell_type": "markdown",
   "id": "23ee416b",
   "metadata": {},
   "source": [
    "Importing list of Machine Learning Algorithms for building a predictive Model.\n",
    "Its a classification problem where our model have to predict the quality of wine based on the independent variables\n"
   ]
  },
  {
   "cell_type": "code",
   "execution_count": 19,
   "id": "4eeac999",
   "metadata": {},
   "outputs": [
    {
     "name": "stdout",
     "output_type": "stream",
     "text": [
      "(765, 8) (378, 8) (765, 1)\n"
     ]
    }
   ],
   "source": [
    "X_train, X_test, y_train, y_test = train_test_split(X,y, test_size=0.33, random_state=42,stratify=y)\n",
    "print(X_train.shape,X_test.shape,y_train.shape)"
   ]
  },
  {
   "cell_type": "code",
   "execution_count": 20,
   "id": "7504a281",
   "metadata": {},
   "outputs": [
    {
     "name": "stdout",
     "output_type": "stream",
     "text": [
      "[3 4 5 6 7 8]\n"
     ]
    }
   ],
   "source": [
    "print(Labels)"
   ]
  },
  {
   "cell_type": "markdown",
   "id": "b7277491",
   "metadata": {},
   "source": [
    "Splliting the dataset into 2 parts :                                                                                                  \n",
    "    1. First part for training our model where it will be introduced with the data and the label of them . This type of learning is called Supervised Machine Learning . The Model is fed with lots of instances of data , with there labels , model learns the pattern and reveals the hidden insights from data .                                                                                                               \n",
    "    2. The testing data , Once our model has been trained , how it will perform in the market can be evaluated using this test data by checking its accuracy of prediction on them as  our model hasnt seen this data prior ."
   ]
  },
  {
   "cell_type": "code",
   "execution_count": 21,
   "id": "c28ab137",
   "metadata": {},
   "outputs": [],
   "source": [
    "score = [] # for storing the results of each model\n",
    "from math import *\n",
    "def ModelFormation(name,model,X_train,X_test,y_train,y_test):  \n",
    "    model.fit(X_train,y_train)\n",
    "    print(\"{}'s Score is :{}\".format(name,model.score(X_test,y_test)))\n",
    "    score.append(round(model.score(X_test,y_test),4)*100)\n",
    "\n",
    "    y_pred = model.predict(X_test)\n",
    "    print(classification_report(y_test,y_pred,zero_division=0))\n",
    "    cm = confusion_matrix(y_test,y_pred)\n",
    "    disp = ConfusionMatrixDisplay(confusion_matrix=cm,display_labels=Labels)\n",
    "    disp.plot()\n",
    "    plt.show()\n",
    "    print(\"/*****************************************************************/\")\n"
   ]
  },
  {
   "cell_type": "markdown",
   "id": "a72da6f8",
   "metadata": {},
   "source": [
    "\"Modelformation\" function to take input the training data and the ML algorithm to be used for training , will train the model , store the predictions and create a confusion matrix and a classification reportcard.                                            \n",
    "Confusion matrix is a matrix where Row shows the true label(The ACTUAL CLASS of that instance of data) and column shows the predicted label(WHAT LABEL OUR MODEL PREDICTED to that instance)"
   ]
  },
  {
   "cell_type": "code",
   "execution_count": 22,
   "id": "11e69d0d",
   "metadata": {},
   "outputs": [],
   "source": [
    "### The Hyperparameter is tuned using GridSearchCv\n",
    "\n",
    "\n",
    "nbGauss = GaussianNB()  ### Naive Bayes Algorithm for training\n",
    "svc_lin = LinearSVC(C=10)## Linaer Support Vector Machine\n",
    "svc = SVC(C=1, degree=0, gamma=0.1,probability=True)### Support Vector Machine with kernel as \"RBF\"\n",
    "knn = KNeighborsClassifier(n_neighbors=8) ## K NearestNeighbour Classfier\n",
    "rfc= RandomForestClassifier(n_estimators=50,n_jobs=-1,random_state=10)  ###Random Forest Classifier with 50 decision trees\n",
    "extra_tree = BaggingClassifier(ExtraTreesClassifier(random_state=0), random_state=0) ### \n",
    "gradboost= GradientBoostingClassifier(n_estimators=150, learning_rate=0.2,max_depth=1, random_state=0)\n"
   ]
  },
  {
   "cell_type": "code",
   "execution_count": 23,
   "id": "f236984b",
   "metadata": {},
   "outputs": [],
   "source": [
    "Models = {\n",
    "    \"LinearSVC\":svc_lin,\n",
    "    \"Gaussian Naive Bayes\":nbGauss,\n",
    "    \"RBF Kernel SVC\":svc,\n",
    "    \"K Nearest Neighbour\":knn,\n",
    "    \"Random Forest Classifier\":rfc,\n",
    "    \"Extra Tree Classifier\":extra_tree,\n",
    "    \"Gradient Boosting\":gradboost\n",
    "}"
   ]
  },
  {
   "cell_type": "code",
   "execution_count": 68,
   "id": "253939f9",
   "metadata": {},
   "outputs": [
    {
     "name": "stderr",
     "output_type": "stream",
     "text": [
      "C:\\Users\\Param\\anaconda3\\lib\\site-packages\\sklearn\\utils\\validation.py:993: DataConversionWarning: A column-vector y was passed when a 1d array was expected. Please change the shape of y to (n_samples, ), for example using ravel().\n",
      "  y = column_or_1d(y, warn=True)\n",
      "C:\\Users\\Param\\anaconda3\\lib\\site-packages\\sklearn\\svm\\_base.py:1206: ConvergenceWarning: Liblinear failed to converge, increase the number of iterations.\n",
      "  warnings.warn(\n"
     ]
    },
    {
     "name": "stdout",
     "output_type": "stream",
     "text": [
      "LinearSVC's Score is :0.6031746031746031\n",
      "              precision    recall  f1-score   support\n",
      "\n",
      "           3       0.00      0.00      0.00         2\n",
      "           4       0.00      0.00      0.00        11\n",
      "           5       0.66      0.82      0.74       160\n",
      "           6       0.56      0.61      0.58       153\n",
      "           7       0.20      0.04      0.07        47\n",
      "           8       0.00      0.00      0.00         5\n",
      "\n",
      "    accuracy                           0.60       378\n",
      "   macro avg       0.24      0.25      0.23       378\n",
      "weighted avg       0.53      0.60      0.56       378\n",
      "\n"
     ]
    },
    {
     "data": {
      "image/png": "[encoded data removed]",
      "text/plain": [
       "<Figure size 432x288 with 2 Axes>"
      ]
     },
     "metadata": {
      "needs_background": "light"
     },
     "output_type": "display_data"
    },
    {
     "name": "stdout",
     "output_type": "stream",
     "text": [
      "/*****************************************************************/\n",
      "Gaussian Naive Bayes's Score is :0.5793650793650794\n",
      "              precision    recall  f1-score   support\n",
      "\n",
      "           3       0.00      0.00      0.00         2\n",
      "           4       0.00      0.00      0.00        11\n",
      "           5       0.71      0.71      0.71       160\n",
      "           6       0.58      0.54      0.56       153\n",
      "           7       0.40      0.47      0.43        47\n",
      "           8       0.08      0.20      0.12         5\n",
      "\n",
      "    accuracy                           0.58       378\n",
      "   macro avg       0.29      0.32      0.30       378\n",
      "weighted avg       0.58      0.58      0.58       378\n",
      "\n"
     ]
    },
    {
     "name": "stderr",
     "output_type": "stream",
     "text": [
      "C:\\Users\\Param\\anaconda3\\lib\\site-packages\\sklearn\\utils\\validation.py:993: DataConversionWarning: A column-vector y was passed when a 1d array was expected. Please change the shape of y to (n_samples, ), for example using ravel().\n",
      "  y = column_or_1d(y, warn=True)\n"
     ]
    },
    {
     "data": {
      "image/png": "[encoded data removed]",
      "text/plain": [
       "<Figure size 432x288 with 2 Axes>"
      ]
     },
     "metadata": {
      "needs_background": "light"
     },
     "output_type": "display_data"
    },
    {
     "name": "stdout",
     "output_type": "stream",
     "text": [
      "/*****************************************************************/\n"
     ]
    },
    {
     "name": "stderr",
     "output_type": "stream",
     "text": [
      "C:\\Users\\Param\\anaconda3\\lib\\site-packages\\sklearn\\utils\\validation.py:993: DataConversionWarning: A column-vector y was passed when a 1d array was expected. Please change the shape of y to (n_samples, ), for example using ravel().\n",
      "  y = column_or_1d(y, warn=True)\n"
     ]
    },
    {
     "name": "stdout",
     "output_type": "stream",
     "text": [
      "RBF Kernel SVC's Score is :0.6455026455026455\n",
      "              precision    recall  f1-score   support\n",
      "\n",
      "           3       0.00      0.00      0.00         2\n",
      "           4       0.00      0.00      0.00        11\n",
      "           5       0.70      0.81      0.75       160\n",
      "           6       0.60      0.66      0.63       153\n",
      "           7       0.52      0.30      0.38        47\n",
      "           8       0.00      0.00      0.00         5\n",
      "\n",
      "    accuracy                           0.65       378\n",
      "   macro avg       0.30      0.29      0.29       378\n",
      "weighted avg       0.61      0.65      0.62       378\n",
      "\n"
     ]
    },
    {
     "data": {
      "image/png": "[encoded data removed]",
      "text/plain": [
       "<Figure size 432x288 with 2 Axes>"
      ]
     },
     "metadata": {
      "needs_background": "light"
     },
     "output_type": "display_data"
    },
    {
     "name": "stdout",
     "output_type": "stream",
     "text": [
      "/*****************************************************************/\n",
      "K Nearest Neighbour's Score is :0.6137566137566137\n",
      "              precision    recall  f1-score   support\n",
      "\n",
      "           3       0.00      0.00      0.00         2\n",
      "           4       0.00      0.00      0.00        11\n",
      "           5       0.67      0.75      0.71       160\n",
      "           6       0.59      0.63      0.61       153\n",
      "           7       0.44      0.32      0.37        47\n",
      "           8       0.00      0.00      0.00         5\n",
      "\n",
      "    accuracy                           0.61       378\n",
      "   macro avg       0.28      0.28      0.28       378\n",
      "weighted avg       0.58      0.61      0.59       378\n",
      "\n"
     ]
    },
    {
     "name": "stderr",
     "output_type": "stream",
     "text": [
      "C:\\Users\\Param\\anaconda3\\lib\\site-packages\\sklearn\\neighbors\\_classification.py:198: DataConversionWarning: A column-vector y was passed when a 1d array was expected. Please change the shape of y to (n_samples,), for example using ravel().\n",
      "  return self._fit(X, y)\n"
     ]
    },
    {
     "data": {
      "image/png": "[encoded data removed]",
      "text/plain": [
       "<Figure size 432x288 with 2 Axes>"
      ]
     },
     "metadata": {
      "needs_background": "light"
     },
     "output_type": "display_data"
    },
    {
     "name": "stdout",
     "output_type": "stream",
     "text": [
      "/*****************************************************************/\n"
     ]
    },
    {
     "name": "stderr",
     "output_type": "stream",
     "text": [
      "C:\\Users\\Param\\AppData\\Local\\Temp/ipykernel_5568/1616640086.py:4: DataConversionWarning: A column-vector y was passed when a 1d array was expected. Please change the shape of y to (n_samples,), for example using ravel().\n",
      "  model.fit(X_train,y_train)\n"
     ]
    },
    {
     "name": "stdout",
     "output_type": "stream",
     "text": [
      "Random Forest Classifier's Score is :0.6851851851851852\n",
      "              precision    recall  f1-score   support\n",
      "\n",
      "           3       0.00      0.00      0.00         2\n",
      "           4       0.00      0.00      0.00        11\n",
      "           5       0.72      0.81      0.76       160\n",
      "           6       0.66      0.71      0.68       153\n",
      "           7       0.61      0.43      0.50        47\n",
      "           8       1.00      0.20      0.33         5\n",
      "\n",
      "    accuracy                           0.69       378\n",
      "   macro avg       0.50      0.36      0.38       378\n",
      "weighted avg       0.66      0.69      0.67       378\n",
      "\n"
     ]
    },
    {
     "data": {
      "image/png": "[encoded data removed]",
      "text/plain": [
       "<Figure size 432x288 with 2 Axes>"
      ]
     },
     "metadata": {
      "needs_background": "light"
     },
     "output_type": "display_data"
    },
    {
     "name": "stdout",
     "output_type": "stream",
     "text": [
      "/*****************************************************************/\n"
     ]
    },
    {
     "name": "stderr",
     "output_type": "stream",
     "text": [
      "C:\\Users\\Param\\anaconda3\\lib\\site-packages\\sklearn\\ensemble\\_bagging.py:719: DataConversionWarning: A column-vector y was passed when a 1d array was expected. Please change the shape of y to (n_samples, ), for example using ravel().\n",
      "  y = column_or_1d(y, warn=True)\n"
     ]
    },
    {
     "name": "stdout",
     "output_type": "stream",
     "text": [
      "Extra Tree Classifier's Score is :0.6772486772486772\n",
      "              precision    recall  f1-score   support\n",
      "\n",
      "           3       0.00      0.00      0.00         2\n",
      "           4       0.00      0.00      0.00        11\n",
      "           5       0.73      0.81      0.77       160\n",
      "           6       0.64      0.69      0.66       153\n",
      "           7       0.58      0.40      0.48        47\n",
      "           8       1.00      0.20      0.33         5\n",
      "\n",
      "    accuracy                           0.68       378\n",
      "   macro avg       0.49      0.35      0.37       378\n",
      "weighted avg       0.65      0.68      0.66       378\n",
      "\n"
     ]
    },
    {
     "data": {
      "image/png": "[encoded data removed]",
      "text/plain": [
       "<Figure size 432x288 with 2 Axes>"
      ]
     },
     "metadata": {
      "needs_background": "light"
     },
     "output_type": "display_data"
    },
    {
     "name": "stdout",
     "output_type": "stream",
     "text": [
      "/*****************************************************************/\n"
     ]
    },
    {
     "name": "stderr",
     "output_type": "stream",
     "text": [
      "C:\\Users\\Param\\anaconda3\\lib\\site-packages\\sklearn\\ensemble\\_gb.py:494: DataConversionWarning: A column-vector y was passed when a 1d array was expected. Please change the shape of y to (n_samples, ), for example using ravel().\n",
      "  y = column_or_1d(y, warn=True)\n"
     ]
    },
    {
     "name": "stdout",
     "output_type": "stream",
     "text": [
      "Gradient Boosting's Score is :0.6375661375661376\n",
      "              precision    recall  f1-score   support\n",
      "\n",
      "           3       0.00      0.00      0.00         2\n",
      "           4       0.00      0.00      0.00        11\n",
      "           5       0.70      0.79      0.74       160\n",
      "           6       0.62      0.62      0.62       153\n",
      "           7       0.51      0.40      0.45        47\n",
      "           8       0.00      0.00      0.00         5\n",
      "\n",
      "    accuracy                           0.64       378\n",
      "   macro avg       0.30      0.30      0.30       378\n",
      "weighted avg       0.61      0.64      0.62       378\n",
      "\n"
     ]
    },
    {
     "data": {
      "image/png": "[encoded data removed]",
      "text/plain": [
       "<Figure size 432x288 with 2 Axes>"
      ]
     },
     "metadata": {
      "needs_background": "light"
     },
     "output_type": "display_data"
    },
    {
     "name": "stdout",
     "output_type": "stream",
     "text": [
      "/*****************************************************************/\n"
     ]
    }
   ],
   "source": [
    "# print(Models[x].__class__.__name__) #to print the name of algo\n",
    "for x in Models:\n",
    "        ModelFormation(x,Models[x],X_train,X_test,y_train,y_test)"
   ]
  },
  {
   "cell_type": "markdown",
   "id": "a020bdf4",
   "metadata": {},
   "source": [
    "Expect Result , Our Model is Baised in prediction of (3,4 8) class . None of the model had predicted thses correctly,  which arises due to Imbalance in Dataset."
   ]
  },
  {
   "cell_type": "markdown",
   "id": "59a9d8ef",
   "metadata": {},
   "source": [
    "The Parameter in classification reports are :\n",
    "\n",
    "       1.Precision is among all the labels where our model predicted true ,how many(among those) were actual true e.g our model predicted class 5, 100 times and only 50 of them were actually class 5 , so precision will be 50/100.\n",
    "       \n",
    "       2 .Recall is among all the true labels , how many times our model detected them as true correctly e.g there are 60              instances of class 5 and our model(among these 60) predicted only 40 times as class 5 , so recall will be 40/60  \n",
    "       \n",
    "       3.F1 score is the harmonic mean of precision and recall.In many cases the measure the measure of precision and recall are equally important , so F1 score provide the better measure to analyse them .\n",
    "       \n",
    "       4 Support is the no of instance of that  label in y_test(target column in testing data)"
   ]
  },
  {
   "cell_type": "code",
   "execution_count": 69,
   "id": "fc7ce60f",
   "metadata": {},
   "outputs": [
    {
     "name": "stderr",
     "output_type": "stream",
     "text": [
      "C:\\Users\\Param\\anaconda3\\lib\\site-packages\\sklearn\\preprocessing\\_label.py:98: DataConversionWarning: A column-vector y was passed when a 1d array was expected. Please change the shape of y to (n_samples, ), for example using ravel().\n",
      "  y = column_or_1d(y, warn=True)\n",
      "C:\\Users\\Param\\anaconda3\\lib\\site-packages\\sklearn\\preprocessing\\_label.py:133: DataConversionWarning: A column-vector y was passed when a 1d array was expected. Please change the shape of y to (n_samples, ), for example using ravel().\n",
      "  y = column_or_1d(y, warn=True)\n"
     ]
    },
    {
     "name": "stdout",
     "output_type": "stream",
     "text": [
      "Voting Classifier's Score is :0.6534391534391535\n",
      "              precision    recall  f1-score   support\n",
      "\n",
      "           3       0.00      0.00      0.00         2\n",
      "           4       0.00      0.00      0.00        11\n",
      "           5       0.71      0.80      0.75       160\n",
      "           6       0.62      0.65      0.63       153\n",
      "           7       0.53      0.40      0.46        47\n",
      "           8       0.00      0.00      0.00         5\n",
      "\n",
      "    accuracy                           0.65       378\n",
      "   macro avg       0.31      0.31      0.31       378\n",
      "weighted avg       0.62      0.65      0.63       378\n",
      "\n"
     ]
    },
    {
     "data": {
      "image/png": "[encoded data removed]",
      "text/plain": [
       "<Figure size 432x288 with 2 Axes>"
      ]
     },
     "metadata": {
      "needs_background": "light"
     },
     "output_type": "display_data"
    },
    {
     "name": "stdout",
     "output_type": "stream",
     "text": [
      "/*****************************************************************/\n"
     ]
    }
   ],
   "source": [
    "from sklearn.ensemble import VotingClassifier\n",
    "voting_clf = VotingClassifier(estimators=[('nb',nbGauss),('svc',svc),('knn',knn),(\"rfc\",rfc),(\"etc\",extra_tree),(\"gbc\",gradboost)],\n",
    "                             voting=\"soft\")\n",
    "ModelFormation(\"Voting Classifier\",voting_clf,X_train,X_test,y_train,y_test)\n"
   ]
  },
  {
   "cell_type": "markdown",
   "id": "a63c1c19",
   "metadata": {},
   "source": [
    "Like we humans while making a decision , usually take suggestions from our friends and colleagues , then came to a final conclusion regarding that decision. In the Similar fashion \"Voting Classfier \" algorithm take the majority(or mean of probability) vote from all the above classfiers(models) and then makes a prediction on each instances based on the majority votes ,which often outperforms compare to  the best model's prediction because of the \" WISDOM OF THE CROWD\""
   ]
  },
  {
   "cell_type": "markdown",
   "id": "5ce1b7fd",
   "metadata": {},
   "source": [
    "### Handling the imbalanced dataset\n",
    "    Since we saw that our models accuracy was immensely affected because of imbalance dataset . TO Overcome this situation       we can create some artificial instances of minorities classes using SMOTE technique. This methos is called Oversampling"
   ]
  },
  {
   "cell_type": "code",
   "execution_count": 70,
   "id": "605fc5ef",
   "metadata": {},
   "outputs": [
    {
     "name": "stdout",
     "output_type": "stream",
     "text": [
      "The Distribution of target Variables before Oversampling :\n",
      " quality\n",
      "5          323\n",
      "6          309\n",
      "7           96\n",
      "4           22\n",
      "8           11\n",
      "3            4\n",
      "dtype: int64\n"
     ]
    }
   ],
   "source": [
    "print(\"The Distribution of target Variables before Oversampling :\\n\", y_train.value_counts())"
   ]
  },
  {
   "cell_type": "code",
   "execution_count": 73,
   "id": "5dba02f2",
   "metadata": {},
   "outputs": [
    {
     "name": "stdout",
     "output_type": "stream",
     "text": [
      "The Distribution of target Variables after Oversampling :\n",
      " quality\n",
      "3          483\n",
      "4          483\n",
      "5          483\n",
      "6          483\n",
      "7          483\n",
      "8          483\n",
      "dtype: int64\n"
     ]
    }
   ],
   "source": [
    "from imblearn.over_sampling import SMOTE\n",
    "sm = SMOTE(random_state = 20,k_neighbors=3, n_jobs=-1)\n",
    "X_smote,Y_smote = sm.fit_resample(X,y)\n",
    "print(\"The Distribution of target Variables after Oversampling :\\n\",Y_smote.value_counts())"
   ]
  },
  {
   "cell_type": "code",
   "execution_count": 74,
   "id": "e5876e7c",
   "metadata": {},
   "outputs": [
    {
     "name": "stdout",
     "output_type": "stream",
     "text": [
      "(1941, 8) (957, 8) (1941, 1)\n"
     ]
    }
   ],
   "source": [
    "X_train, X_test, y_train, y_test = train_test_split(X_smote,Y_smote, test_size=0.33, random_state=42,stratify=Y_smote)\n",
    "print(X_train.shape,X_test.shape,y_train.shape)"
   ]
  },
  {
   "cell_type": "markdown",
   "id": "49c31312",
   "metadata": {},
   "source": [
    "Repeating the same process of training the Models on new OverSampled Data"
   ]
  },
  {
   "cell_type": "code",
   "execution_count": 75,
   "id": "4bb2c24a",
   "metadata": {},
   "outputs": [
    {
     "name": "stderr",
     "output_type": "stream",
     "text": [
      "C:\\Users\\Param\\anaconda3\\lib\\site-packages\\sklearn\\utils\\validation.py:993: DataConversionWarning: A column-vector y was passed when a 1d array was expected. Please change the shape of y to (n_samples, ), for example using ravel().\n",
      "  y = column_or_1d(y, warn=True)\n",
      "C:\\Users\\Param\\anaconda3\\lib\\site-packages\\sklearn\\svm\\_base.py:1206: ConvergenceWarning: Liblinear failed to converge, increase the number of iterations.\n",
      "  warnings.warn(\n"
     ]
    },
    {
     "name": "stdout",
     "output_type": "stream",
     "text": [
      "LinearSVC's Score is :0.5799373040752351\n",
      "              precision    recall  f1-score   support\n",
      "\n",
      "           3       0.82      1.00      0.90       159\n",
      "           4       0.56      0.48      0.52       159\n",
      "           5       0.51      0.57      0.54       160\n",
      "           6       0.36      0.17      0.23       160\n",
      "           7       0.49      0.37      0.42       160\n",
      "           8       0.57      0.89      0.69       159\n",
      "\n",
      "    accuracy                           0.58       957\n",
      "   macro avg       0.55      0.58      0.55       957\n",
      "weighted avg       0.55      0.58      0.55       957\n",
      "\n"
     ]
    },
    {
     "data": {
      "image/png": "[encoded data removed]",
      "text/plain": [
       "<Figure size 432x288 with 2 Axes>"
      ]
     },
     "metadata": {
      "needs_background": "light"
     },
     "output_type": "display_data"
    },
    {
     "name": "stdout",
     "output_type": "stream",
     "text": [
      "/*****************************************************************/\n",
      "Gaussian Naive Bayes's Score is :0.4942528735632184\n",
      "              precision    recall  f1-score   support\n",
      "\n",
      "           3       0.47      0.82      0.60       159\n",
      "           4       0.51      0.23      0.32       159\n",
      "           5       0.48      0.38      0.42       160\n",
      "           6       0.39      0.29      0.34       160\n",
      "           7       0.46      0.37      0.41       160\n",
      "           8       0.60      0.87      0.71       159\n",
      "\n",
      "    accuracy                           0.49       957\n",
      "   macro avg       0.48      0.49      0.47       957\n",
      "weighted avg       0.48      0.49      0.47       957\n",
      "\n"
     ]
    },
    {
     "name": "stderr",
     "output_type": "stream",
     "text": [
      "C:\\Users\\Param\\anaconda3\\lib\\site-packages\\sklearn\\utils\\validation.py:993: DataConversionWarning: A column-vector y was passed when a 1d array was expected. Please change the shape of y to (n_samples, ), for example using ravel().\n",
      "  y = column_or_1d(y, warn=True)\n"
     ]
    },
    {
     "data": {
      "image/png": "[encoded data removed]",
      "text/plain": [
       "<Figure size 432x288 with 2 Axes>"
      ]
     },
     "metadata": {
      "needs_background": "light"
     },
     "output_type": "display_data"
    },
    {
     "name": "stdout",
     "output_type": "stream",
     "text": [
      "/*****************************************************************/\n"
     ]
    },
    {
     "name": "stderr",
     "output_type": "stream",
     "text": [
      "C:\\Users\\Param\\anaconda3\\lib\\site-packages\\sklearn\\utils\\validation.py:993: DataConversionWarning: A column-vector y was passed when a 1d array was expected. Please change the shape of y to (n_samples, ), for example using ravel().\n",
      "  y = column_or_1d(y, warn=True)\n"
     ]
    },
    {
     "name": "stdout",
     "output_type": "stream",
     "text": [
      "RBF Kernel SVC's Score is :0.7136886102403344\n",
      "              precision    recall  f1-score   support\n",
      "\n",
      "           3       0.90      1.00      0.95       159\n",
      "           4       0.72      0.78      0.75       159\n",
      "           5       0.60      0.56      0.58       160\n",
      "           6       0.46      0.42      0.44       160\n",
      "           7       0.74      0.54      0.63       160\n",
      "           8       0.80      0.98      0.88       159\n",
      "\n",
      "    accuracy                           0.71       957\n",
      "   macro avg       0.70      0.71      0.70       957\n",
      "weighted avg       0.70      0.71      0.70       957\n",
      "\n"
     ]
    },
    {
     "data": {
      "image/png": "[encoded data removed]",
      "text/plain": [
       "<Figure size 432x288 with 2 Axes>"
      ]
     },
     "metadata": {
      "needs_background": "light"
     },
     "output_type": "display_data"
    },
    {
     "name": "stdout",
     "output_type": "stream",
     "text": [
      "/*****************************************************************/\n",
      "K Nearest Neighbour's Score is :0.7460815047021944\n"
     ]
    },
    {
     "name": "stderr",
     "output_type": "stream",
     "text": [
      "C:\\Users\\Param\\anaconda3\\lib\\site-packages\\sklearn\\neighbors\\_classification.py:198: DataConversionWarning: A column-vector y was passed when a 1d array was expected. Please change the shape of y to (n_samples,), for example using ravel().\n",
      "  return self._fit(X, y)\n"
     ]
    },
    {
     "name": "stdout",
     "output_type": "stream",
     "text": [
      "              precision    recall  f1-score   support\n",
      "\n",
      "           3       0.89      1.00      0.94       159\n",
      "           4       0.66      0.98      0.79       159\n",
      "           5       0.66      0.44      0.53       160\n",
      "           6       0.48      0.27      0.35       160\n",
      "           7       0.75      0.79      0.77       160\n",
      "           8       0.89      1.00      0.94       159\n",
      "\n",
      "    accuracy                           0.75       957\n",
      "   macro avg       0.72      0.75      0.72       957\n",
      "weighted avg       0.72      0.75      0.72       957\n",
      "\n"
     ]
    },
    {
     "data": {
      "image/png": "[encoded data removed]",
      "text/plain": [
       "<Figure size 432x288 with 2 Axes>"
      ]
     },
     "metadata": {
      "needs_background": "light"
     },
     "output_type": "display_data"
    },
    {
     "name": "stdout",
     "output_type": "stream",
     "text": [
      "/*****************************************************************/\n"
     ]
    },
    {
     "name": "stderr",
     "output_type": "stream",
     "text": [
      "C:\\Users\\Param\\AppData\\Local\\Temp/ipykernel_5568/1616640086.py:4: DataConversionWarning: A column-vector y was passed when a 1d array was expected. Please change the shape of y to (n_samples,), for example using ravel().\n",
      "  model.fit(X_train,y_train)\n"
     ]
    },
    {
     "name": "stdout",
     "output_type": "stream",
     "text": [
      "Random Forest Classifier's Score is :0.8495297805642633\n",
      "              precision    recall  f1-score   support\n",
      "\n",
      "           3       0.98      1.00      0.99       159\n",
      "           4       0.91      0.99      0.95       159\n",
      "           5       0.73      0.69      0.71       160\n",
      "           6       0.63      0.56      0.59       160\n",
      "           7       0.85      0.88      0.86       160\n",
      "           8       0.95      0.99      0.97       159\n",
      "\n",
      "    accuracy                           0.85       957\n",
      "   macro avg       0.84      0.85      0.85       957\n",
      "weighted avg       0.84      0.85      0.85       957\n",
      "\n"
     ]
    },
    {
     "data": {
      "image/png": "[encoded data removed]",
      "text/plain": [
       "<Figure size 432x288 with 2 Axes>"
      ]
     },
     "metadata": {
      "needs_background": "light"
     },
     "output_type": "display_data"
    },
    {
     "name": "stdout",
     "output_type": "stream",
     "text": [
      "/*****************************************************************/\n"
     ]
    },
    {
     "name": "stderr",
     "output_type": "stream",
     "text": [
      "C:\\Users\\Param\\anaconda3\\lib\\site-packages\\sklearn\\ensemble\\_bagging.py:719: DataConversionWarning: A column-vector y was passed when a 1d array was expected. Please change the shape of y to (n_samples, ), for example using ravel().\n",
      "  y = column_or_1d(y, warn=True)\n"
     ]
    },
    {
     "name": "stdout",
     "output_type": "stream",
     "text": [
      "Extra Tree Classifier's Score is :0.8505747126436781\n",
      "              precision    recall  f1-score   support\n",
      "\n",
      "           3       0.96      1.00      0.98       159\n",
      "           4       0.92      0.97      0.95       159\n",
      "           5       0.73      0.65      0.69       160\n",
      "           6       0.63      0.60      0.62       160\n",
      "           7       0.87      0.88      0.87       160\n",
      "           8       0.96      1.00      0.98       159\n",
      "\n",
      "    accuracy                           0.85       957\n",
      "   macro avg       0.84      0.85      0.85       957\n",
      "weighted avg       0.84      0.85      0.85       957\n",
      "\n"
     ]
    },
    {
     "data": {
      "image/png": "[encoded data removed]",
      "text/plain": [
       "<Figure size 432x288 with 2 Axes>"
      ]
     },
     "metadata": {
      "needs_background": "light"
     },
     "output_type": "display_data"
    },
    {
     "name": "stdout",
     "output_type": "stream",
     "text": [
      "/*****************************************************************/\n"
     ]
    },
    {
     "name": "stderr",
     "output_type": "stream",
     "text": [
      "C:\\Users\\Param\\anaconda3\\lib\\site-packages\\sklearn\\ensemble\\_gb.py:494: DataConversionWarning: A column-vector y was passed when a 1d array was expected. Please change the shape of y to (n_samples, ), for example using ravel().\n",
      "  y = column_or_1d(y, warn=True)\n"
     ]
    },
    {
     "name": "stdout",
     "output_type": "stream",
     "text": [
      "Gradient Boosting's Score is :0.723092998955068\n",
      "              precision    recall  f1-score   support\n",
      "\n",
      "           3       0.93      0.99      0.96       159\n",
      "           4       0.74      0.73      0.73       159\n",
      "           5       0.61      0.57      0.59       160\n",
      "           6       0.49      0.41      0.44       160\n",
      "           7       0.68      0.72      0.70       160\n",
      "           8       0.83      0.93      0.88       159\n",
      "\n",
      "    accuracy                           0.72       957\n",
      "   macro avg       0.71      0.72      0.72       957\n",
      "weighted avg       0.71      0.72      0.72       957\n",
      "\n"
     ]
    },
    {
     "data": {
      "image/png": "[encoded data removed]",
      "text/plain": [
       "<Figure size 432x288 with 2 Axes>"
      ]
     },
     "metadata": {
      "needs_background": "light"
     },
     "output_type": "display_data"
    },
    {
     "name": "stdout",
     "output_type": "stream",
     "text": [
      "/*****************************************************************/\n"
     ]
    }
   ],
   "source": [
    "for x in Models:\n",
    "    ModelFormation(x,Models[x],X_train,X_test,y_train,y_test)"
   ]
  },
  {
   "cell_type": "code",
   "execution_count": 76,
   "id": "d124aa87",
   "metadata": {},
   "outputs": [
    {
     "name": "stderr",
     "output_type": "stream",
     "text": [
      "C:\\Users\\Param\\anaconda3\\lib\\site-packages\\sklearn\\preprocessing\\_label.py:98: DataConversionWarning: A column-vector y was passed when a 1d array was expected. Please change the shape of y to (n_samples, ), for example using ravel().\n",
      "  y = column_or_1d(y, warn=True)\n",
      "C:\\Users\\Param\\anaconda3\\lib\\site-packages\\sklearn\\preprocessing\\_label.py:133: DataConversionWarning: A column-vector y was passed when a 1d array was expected. Please change the shape of y to (n_samples, ), for example using ravel().\n",
      "  y = column_or_1d(y, warn=True)\n"
     ]
    },
    {
     "name": "stdout",
     "output_type": "stream",
     "text": [
      "Voting Classifier's Score is :0.8181818181818182\n",
      "              precision    recall  f1-score   support\n",
      "\n",
      "           3       0.94      1.00      0.97       159\n",
      "           4       0.87      0.97      0.92       159\n",
      "           5       0.72      0.64      0.68       160\n",
      "           6       0.62      0.49      0.55       160\n",
      "           7       0.79      0.81      0.80       160\n",
      "           8       0.89      1.00      0.94       159\n",
      "\n",
      "    accuracy                           0.82       957\n",
      "   macro avg       0.81      0.82      0.81       957\n",
      "weighted avg       0.81      0.82      0.81       957\n",
      "\n"
     ]
    },
    {
     "data": {
      "image/png": "[encoded data removed]",
      "text/plain": [
       "<Figure size 432x288 with 2 Axes>"
      ]
     },
     "metadata": {
      "needs_background": "light"
     },
     "output_type": "display_data"
    },
    {
     "name": "stdout",
     "output_type": "stream",
     "text": [
      "/*****************************************************************/\n"
     ]
    }
   ],
   "source": [
    "from sklearn.ensemble import VotingClassifier\n",
    "voting_clf = VotingClassifier(estimators=[('nb',nbGauss),('svc',svc),('knn',knn),(\"rfc\",rfc),(\"etc\",extra_tree),(\"gbc\",gradboost)],\n",
    "                             voting=\"soft\")\n",
    "ModelFormation(\"Voting Classifier\",voting_clf,X_train,X_test,y_train,y_test)\n"
   ]
  },
  {
   "cell_type": "markdown",
   "id": "eb1008ce",
   "metadata": {},
   "source": [
    "### The Reportcard of Above Machine Learning Models "
   ]
  },
  {
   "cell_type": "code",
   "execution_count": 77,
   "id": "0277c55f",
   "metadata": {},
   "outputs": [
    {
     "data": {
      "text/html": [
       "<style type=\"text/css\">\n",
       "#T_a3e52_  {\n",
       "  border: 4px solid #7a7;\n",
       "}\n",
       "</style>\n",
       "<table id=\"T_a3e52_\">\n",
       "  <thead>\n",
       "    <tr>\n",
       "      <th class=\"blank level0\" >&nbsp;</th>\n",
       "      <th class=\"col_heading level0 col0\" >Without OverSampling</th>\n",
       "      <th class=\"col_heading level0 col1\" >With OverSampling</th>\n",
       "    </tr>\n",
       "  </thead>\n",
       "  <tbody>\n",
       "    <tr>\n",
       "      <th id=\"T_a3e52_level0_row0\" class=\"row_heading level0 row0\" >LinearSVC</th>\n",
       "      <td id=\"T_a3e52_row0_col0\" class=\"data row0 col0\" >60.320000</td>\n",
       "      <td id=\"T_a3e52_row0_col1\" class=\"data row0 col1\" >57.940000</td>\n",
       "    </tr>\n",
       "    <tr>\n",
       "      <th id=\"T_a3e52_level0_row1\" class=\"row_heading level0 row1\" >Gaussian Naive Bayes</th>\n",
       "      <td id=\"T_a3e52_row1_col0\" class=\"data row1 col0\" >64.550000</td>\n",
       "      <td id=\"T_a3e52_row1_col1\" class=\"data row1 col1\" >61.380000</td>\n",
       "    </tr>\n",
       "    <tr>\n",
       "      <th id=\"T_a3e52_level0_row2\" class=\"row_heading level0 row2\" >RBF Kernel SVC</th>\n",
       "      <td id=\"T_a3e52_row2_col0\" class=\"data row2 col0\" >68.520000</td>\n",
       "      <td id=\"T_a3e52_row2_col1\" class=\"data row2 col1\" >67.720000</td>\n",
       "    </tr>\n",
       "    <tr>\n",
       "      <th id=\"T_a3e52_level0_row3\" class=\"row_heading level0 row3\" >K Nearest Neighbour</th>\n",
       "      <td id=\"T_a3e52_row3_col0\" class=\"data row3 col0\" >63.760000</td>\n",
       "      <td id=\"T_a3e52_row3_col1\" class=\"data row3 col1\" >65.340000</td>\n",
       "    </tr>\n",
       "    <tr>\n",
       "      <th id=\"T_a3e52_level0_row4\" class=\"row_heading level0 row4\" >Random Forest Classifier</th>\n",
       "      <td id=\"T_a3e52_row4_col0\" class=\"data row4 col0\" >57.990000</td>\n",
       "      <td id=\"T_a3e52_row4_col1\" class=\"data row4 col1\" >49.430000</td>\n",
       "    </tr>\n",
       "    <tr>\n",
       "      <th id=\"T_a3e52_level0_row5\" class=\"row_heading level0 row5\" >Extra Tree Classifier</th>\n",
       "      <td id=\"T_a3e52_row5_col0\" class=\"data row5 col0\" >71.370000</td>\n",
       "      <td id=\"T_a3e52_row5_col1\" class=\"data row5 col1\" >74.610000</td>\n",
       "    </tr>\n",
       "    <tr>\n",
       "      <th id=\"T_a3e52_level0_row6\" class=\"row_heading level0 row6\" >Gradient Boosting</th>\n",
       "      <td id=\"T_a3e52_row6_col0\" class=\"data row6 col0\" >84.950000</td>\n",
       "      <td id=\"T_a3e52_row6_col1\" class=\"data row6 col1\" >85.060000</td>\n",
       "    </tr>\n",
       "    <tr>\n",
       "      <th id=\"T_a3e52_level0_row7\" class=\"row_heading level0 row7\" >Voting Classfier</th>\n",
       "      <td id=\"T_a3e52_row7_col0\" class=\"data row7 col0\" >72.310000</td>\n",
       "      <td id=\"T_a3e52_row7_col1\" class=\"data row7 col1\" >81.820000</td>\n",
       "    </tr>\n",
       "  </tbody>\n",
       "</table>\n"
      ],
      "text/plain": [
       "<pandas.io.formats.style.Styler at 0x1a0ccacc040>"
      ]
     },
     "execution_count": 77,
     "metadata": {},
     "output_type": "execute_result"
    }
   ],
   "source": [
    "Score_of_Models = np.asarray(score).reshape(8,2)\n",
    "index = list(Models.keys())\n",
    "index.append(\"Voting Classfier\")\n",
    "Report_card = pd.DataFrame(Score_of_Models,index = index,columns=[\"Without OverSampling\",\"With OverSampling\"])\n",
    "Report_card.style.set_table_styles([{'selector':'','props':[('border','4px solid #7a7')]}])\n",
    "\n"
   ]
  },
  {
   "cell_type": "code",
   "execution_count": null,
   "id": "7d9dcb25",
   "metadata": {},
   "outputs": [],
   "source": []
  },
  {
   "cell_type": "code",
   "execution_count": null,
   "id": "05194153",
   "metadata": {},
   "outputs": [],
   "source": []
  },
  {
   "cell_type": "code",
   "execution_count": null,
   "id": "d0e474b7",
   "metadata": {},
   "outputs": [],
   "source": []
  }
 ],
 "metadata": {
  "kernelspec": {
   "display_name": "Python 3 (ipykernel)",
   "language": "python",
   "name": "python3"
  },
  "language_info": {
   "codemirror_mode": {
    "name": "ipython",
    "version": 3
   },
   "file_extension": ".py",
   "mimetype": "text/x-python",
   "name": "python",
   "nbconvert_exporter": "python",
   "pygments_lexer": "ipython3",
   "version": "3.9.7"
  }
 },
 "nbformat": 4,
 "nbformat_minor": 5
}
