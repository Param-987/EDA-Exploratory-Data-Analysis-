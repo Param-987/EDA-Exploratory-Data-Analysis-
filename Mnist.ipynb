{
 "cells": [
  {
   "cell_type": "code",
   "execution_count": 11,
   "id": "0f30dcf0",
   "metadata": {},
   "outputs": [],
   "source": [
    "import numpy as np\n",
    "import matplotlib.pyplot as plt\n",
    "\n",
    "\n",
    "\n"
   ]
  },
  {
   "cell_type": "code",
   "execution_count": 12,
   "id": "b40b00db",
   "metadata": {},
   "outputs": [
    {
     "ename": "SyntaxError",
     "evalue": "invalid syntax (pywrap_tensorflow_internal.py, line 114)",
     "output_type": "error",
     "traceback": [
      "Traceback \u001b[0;36m(most recent call last)\u001b[0m:\n",
      "  File \u001b[1;32m~/DataScience/jupyter/lib/python3.8/site-packages/IPython/core/interactiveshell.py:3397\u001b[0m in \u001b[1;35mrun_code\u001b[0m\n    exec(code_obj, self.user_global_ns, self.user_ns)\n",
      "  Input \u001b[1;32mIn [12]\u001b[0m in \u001b[1;35m<cell line: 1>\u001b[0m\n    import tensorflow as tf\n",
      "  File \u001b[1;32m~/DataScience/jupyter/lib/python3.8/site-packages/tensorflow/__init__.py:24\u001b[0m in \u001b[1;35m<module>\u001b[0m\n    from tensorflow.python import pywrap_tensorflow  # pylint: disable=unused-import\n",
      "  File \u001b[1;32m~/DataScience/jupyter/lib/python3.8/site-packages/tensorflow/python/__init__.py:49\u001b[0m in \u001b[1;35m<module>\u001b[0m\n    from tensorflow.python import pywrap_tensorflow\n",
      "\u001b[0;36m  File \u001b[0;32m~/DataScience/jupyter/lib/python3.8/site-packages/tensorflow/python/pywrap_tensorflow.py:58\u001b[0;36m in \u001b[0;35m<module>\u001b[0;36m\u001b[0m\n\u001b[0;31m    from tensorflow.python.pywrap_tensorflow_internal import *\u001b[0m\n",
      "\u001b[0;36m  File \u001b[0;32m~/DataScience/jupyter/lib/python3.8/site-packages/tensorflow/python/pywrap_tensorflow_internal.py:114\u001b[0;36m\u001b[0m\n\u001b[0;31m    def TFE_ContextOptionsSetAsync(arg1, async):\u001b[0m\n\u001b[0m                                         ^\u001b[0m\n\u001b[0;31mSyntaxError\u001b[0m\u001b[0;31m:\u001b[0m invalid syntax\n"
     ]
    }
   ],
   "source": [
    "import tensorflow as tf\n"
   ]
  }
 ],
 "metadata": {
  "kernelspec": {
   "display_name": "Python 3 (ipykernel)",
   "language": "python",
   "name": "python3"
  },
  "language_info": {
   "codemirror_mode": {
    "name": "ipython",
    "version": 3
   },
   "file_extension": ".py",
   "mimetype": "text/x-python",
   "name": "python",
   "nbconvert_exporter": "python",
   "pygments_lexer": "ipython3",
   "version": "3.8.9"
  }
 },
 "nbformat": 4,
 "nbformat_minor": 5
}
