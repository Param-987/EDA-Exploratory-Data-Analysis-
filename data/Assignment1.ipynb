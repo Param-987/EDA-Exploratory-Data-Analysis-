{
 "cells": [
  {
   "cell_type": "code",
   "execution_count": 498,
   "id": "0711da63",
   "metadata": {},
   "outputs": [],
   "source": [
    "#Importing all the neccessary libraries for Analysis\n",
    "import numpy as np \n",
    "import pandas as pd\n",
    "import matplotlib.pyplot as plt\n",
    "import seaborn as sns\n",
    "from imblearn.over_sampling import SMOTE # used for creating synthetic new datapoints\n",
    "%matplotlib inline\n",
    "# sns.set_theme()"
   ]
  },
  {
   "cell_type": "code",
   "execution_count": 499,
   "id": "af95f72a",
   "metadata": {},
   "outputs": [],
   "source": [
    "# read the dataset\n",
    "df1 = pd.read_csv('./data/applicant.csv') \n",
    "df2 = pd.read_csv('./data/loan.csv')"
   ]
  },
  {
   "cell_type": "markdown",
   "id": "0ffd786c",
   "metadata": {},
   "source": [
    "# Data Preprocessing"
   ]
  },
  {
   "cell_type": "code",
   "execution_count": 500,
   "id": "894de90d",
   "metadata": {},
   "outputs": [
    {
     "data": {
      "text/html": [
       "<div>\n",
       "<style scoped>\n",
       "    .dataframe tbody tr th:only-of-type {\n",
       "        vertical-align: middle;\n",
       "    }\n",
       "\n",
       "    .dataframe tbody tr th {\n",
       "        vertical-align: top;\n",
       "    }\n",
       "\n",
       "    .dataframe thead th {\n",
       "        text-align: right;\n",
       "    }\n",
       "</style>\n",
       "<table border=\"1\" class=\"dataframe\">\n",
       "  <thead>\n",
       "    <tr style=\"text-align: right;\">\n",
       "      <th></th>\n",
       "      <th>applicant_id</th>\n",
       "      <th>Primary_applicant_age_in_years</th>\n",
       "      <th>Gender</th>\n",
       "      <th>Marital_status</th>\n",
       "      <th>Number_of_dependents</th>\n",
       "      <th>Housing</th>\n",
       "      <th>Years_at_current_residence</th>\n",
       "      <th>Employment_status</th>\n",
       "      <th>Has_been_employed_for_at_least</th>\n",
       "      <th>Has_been_employed_for_at_most</th>\n",
       "      <th>Telephone</th>\n",
       "      <th>Foreign_worker</th>\n",
       "      <th>Savings_account_balance</th>\n",
       "      <th>Balance_in_existing_bank_account_(lower_limit_of_bucket)</th>\n",
       "      <th>Balance_in_existing_bank_account_(upper_limit_of_bucket)</th>\n",
       "    </tr>\n",
       "  </thead>\n",
       "  <tbody>\n",
       "    <tr>\n",
       "      <th>0</th>\n",
       "      <td>1469590</td>\n",
       "      <td>67</td>\n",
       "      <td>male</td>\n",
       "      <td>single</td>\n",
       "      <td>1</td>\n",
       "      <td>own</td>\n",
       "      <td>4</td>\n",
       "      <td>skilled employee / official</td>\n",
       "      <td>7 years</td>\n",
       "      <td>NaN</td>\n",
       "      <td>Registered under the applicant's name</td>\n",
       "      <td>1</td>\n",
       "      <td>NaN</td>\n",
       "      <td>NaN</td>\n",
       "      <td>0</td>\n",
       "    </tr>\n",
       "    <tr>\n",
       "      <th>1</th>\n",
       "      <td>1203873</td>\n",
       "      <td>22</td>\n",
       "      <td>female</td>\n",
       "      <td>divorced/separated/married</td>\n",
       "      <td>1</td>\n",
       "      <td>own</td>\n",
       "      <td>2</td>\n",
       "      <td>skilled employee / official</td>\n",
       "      <td>1 year</td>\n",
       "      <td>4 years</td>\n",
       "      <td>NaN</td>\n",
       "      <td>1</td>\n",
       "      <td>Low</td>\n",
       "      <td>0</td>\n",
       "      <td>2 lac</td>\n",
       "    </tr>\n",
       "    <tr>\n",
       "      <th>2</th>\n",
       "      <td>1432761</td>\n",
       "      <td>49</td>\n",
       "      <td>male</td>\n",
       "      <td>single</td>\n",
       "      <td>2</td>\n",
       "      <td>own</td>\n",
       "      <td>3</td>\n",
       "      <td>unskilled - resident</td>\n",
       "      <td>4 years</td>\n",
       "      <td>7 years</td>\n",
       "      <td>NaN</td>\n",
       "      <td>1</td>\n",
       "      <td>Low</td>\n",
       "      <td>NaN</td>\n",
       "      <td>NaN</td>\n",
       "    </tr>\n",
       "    <tr>\n",
       "      <th>3</th>\n",
       "      <td>1207582</td>\n",
       "      <td>45</td>\n",
       "      <td>male</td>\n",
       "      <td>single</td>\n",
       "      <td>2</td>\n",
       "      <td>for free</td>\n",
       "      <td>4</td>\n",
       "      <td>skilled employee / official</td>\n",
       "      <td>4 years</td>\n",
       "      <td>7 years</td>\n",
       "      <td>NaN</td>\n",
       "      <td>1</td>\n",
       "      <td>Low</td>\n",
       "      <td>NaN</td>\n",
       "      <td>0</td>\n",
       "    </tr>\n",
       "    <tr>\n",
       "      <th>4</th>\n",
       "      <td>1674436</td>\n",
       "      <td>53</td>\n",
       "      <td>male</td>\n",
       "      <td>single</td>\n",
       "      <td>2</td>\n",
       "      <td>for free</td>\n",
       "      <td>4</td>\n",
       "      <td>skilled employee / official</td>\n",
       "      <td>1 year</td>\n",
       "      <td>4 years</td>\n",
       "      <td>NaN</td>\n",
       "      <td>1</td>\n",
       "      <td>Low</td>\n",
       "      <td>NaN</td>\n",
       "      <td>0</td>\n",
       "    </tr>\n",
       "  </tbody>\n",
       "</table>\n",
       "</div>"
      ],
      "text/plain": [
       "   applicant_id  Primary_applicant_age_in_years  Gender  \\\n",
       "0       1469590                              67    male   \n",
       "1       1203873                              22  female   \n",
       "2       1432761                              49    male   \n",
       "3       1207582                              45    male   \n",
       "4       1674436                              53    male   \n",
       "\n",
       "               Marital_status  Number_of_dependents   Housing  \\\n",
       "0                      single                     1       own   \n",
       "1  divorced/separated/married                     1       own   \n",
       "2                      single                     2       own   \n",
       "3                      single                     2  for free   \n",
       "4                      single                     2  for free   \n",
       "\n",
       "   Years_at_current_residence            Employment_status  \\\n",
       "0                           4  skilled employee / official   \n",
       "1                           2  skilled employee / official   \n",
       "2                           3         unskilled - resident   \n",
       "3                           4  skilled employee / official   \n",
       "4                           4  skilled employee / official   \n",
       "\n",
       "  Has_been_employed_for_at_least Has_been_employed_for_at_most  \\\n",
       "0                        7 years                           NaN   \n",
       "1                         1 year                       4 years   \n",
       "2                        4 years                       7 years   \n",
       "3                        4 years                       7 years   \n",
       "4                         1 year                       4 years   \n",
       "\n",
       "                               Telephone  Foreign_worker  \\\n",
       "0  Registered under the applicant's name               1   \n",
       "1                                    NaN               1   \n",
       "2                                    NaN               1   \n",
       "3                                    NaN               1   \n",
       "4                                    NaN               1   \n",
       "\n",
       "  Savings_account_balance  \\\n",
       "0                     NaN   \n",
       "1                     Low   \n",
       "2                     Low   \n",
       "3                     Low   \n",
       "4                     Low   \n",
       "\n",
       "  Balance_in_existing_bank_account_(lower_limit_of_bucket)  \\\n",
       "0                                                NaN         \n",
       "1                                                  0         \n",
       "2                                                NaN         \n",
       "3                                                NaN         \n",
       "4                                                NaN         \n",
       "\n",
       "  Balance_in_existing_bank_account_(upper_limit_of_bucket)  \n",
       "0                                                  0        \n",
       "1                                              2 lac        \n",
       "2                                                NaN        \n",
       "3                                                  0        \n",
       "4                                                  0        "
      ]
     },
     "execution_count": 500,
     "metadata": {},
     "output_type": "execute_result"
    }
   ],
   "source": [
    "#Glimpse of top5 entry\n",
    "df1.head()"
   ]
  },
  {
   "cell_type": "code",
   "execution_count": 501,
   "id": "5898243e",
   "metadata": {},
   "outputs": [
    {
     "name": "stdout",
     "output_type": "stream",
     "text": [
      "<class 'pandas.core.frame.DataFrame'>\n",
      "RangeIndex: 1000 entries, 0 to 999\n",
      "Data columns (total 15 columns):\n",
      " #   Column                                                    Non-Null Count  Dtype \n",
      "---  ------                                                    --------------  ----- \n",
      " 0   applicant_id                                              1000 non-null   int64 \n",
      " 1   Primary_applicant_age_in_years                            1000 non-null   int64 \n",
      " 2   Gender                                                    1000 non-null   object\n",
      " 3   Marital_status                                            1000 non-null   object\n",
      " 4   Number_of_dependents                                      1000 non-null   int64 \n",
      " 5   Housing                                                   1000 non-null   object\n",
      " 6   Years_at_current_residence                                1000 non-null   int64 \n",
      " 7   Employment_status                                         1000 non-null   object\n",
      " 8   Has_been_employed_for_at_least                            938 non-null    object\n",
      " 9   Has_been_employed_for_at_most                             747 non-null    object\n",
      " 10  Telephone                                                 404 non-null    object\n",
      " 11  Foreign_worker                                            1000 non-null   int64 \n",
      " 12  Savings_account_balance                                   817 non-null    object\n",
      " 13  Balance_in_existing_bank_account_(lower_limit_of_bucket)  332 non-null    object\n",
      " 14  Balance_in_existing_bank_account_(upper_limit_of_bucket)  543 non-null    object\n",
      "dtypes: int64(5), object(10)\n",
      "memory usage: 117.3+ KB\n"
     ]
    }
   ],
   "source": [
    "\"\"\"Only 5 columns have the int dtype else are string\"\"\"\n",
    "df1.info()"
   ]
  },
  {
   "cell_type": "code",
   "execution_count": 502,
   "id": "8ac91c9f",
   "metadata": {},
   "outputs": [],
   "source": [
    "# telephone column wont contribute in prediction thus we can drop it\n",
    "df1.drop('Telephone',inplace=True,axis=1)"
   ]
  },
  {
   "cell_type": "code",
   "execution_count": 503,
   "id": "b7595802",
   "metadata": {},
   "outputs": [
    {
     "data": {
      "text/plain": [
       "<AxesSubplot:>"
      ]
     },
     "execution_count": 503,
     "metadata": {},
     "output_type": "execute_result"
    },
    {
     "data": {
      "image/png": "[encoded data removed]",
      "text/plain": [
       "<Figure size 1080x432 with 2 Axes>"
      ]
     },
     "metadata": {
      "needs_background": "light"
     },
     "output_type": "display_data"
    }
   ],
   "source": [
    "\"\"\"CHecking for the missing values\"\"\"\n",
    "plt.figure(figsize=(15,6))\n",
    "sns.heatmap(df1.isna())"
   ]
  },
  {
   "cell_type": "code",
   "execution_count": 504,
   "id": "5b6c05ff",
   "metadata": {},
   "outputs": [
    {
     "data": {
      "text/plain": [
       "Has_been_employed_for_at_least                               62\n",
       "Has_been_employed_for_at_most                               253\n",
       "Savings_account_balance                                     183\n",
       "Balance_in_existing_bank_account_(lower_limit_of_bucket)    668\n",
       "Balance_in_existing_bank_account_(upper_limit_of_bucket)    457\n",
       "dtype: int64"
      ]
     },
     "execution_count": 504,
     "metadata": {},
     "output_type": "execute_result"
    }
   ],
   "source": [
    "# All the columns having atleast 1 null values\n",
    "df1[df1.columns[(df1.isna().sum() > 0)]].isna().sum()"
   ]
  },
  {
   "cell_type": "markdown",
   "id": "9547f5f5",
   "metadata": {},
   "source": [
    "### Feature Engineering"
   ]
  },
  {
   "cell_type": "code",
   "execution_count": 505,
   "id": "dc26a165",
   "metadata": {},
   "outputs": [],
   "source": [
    "\"\"\"Changing the string to int and replacing null values with 0\"\"\"\n",
    "df1['Balance_in_existing_bank_account_(upper_limit_of_bucket)'] = \\\n",
    "    np.where(df1['Balance_in_existing_bank_account_(upper_limit_of_bucket)']=='2 lac',2,0)"
   ]
  },
  {
   "cell_type": "code",
   "execution_count": 506,
   "id": "790c934b",
   "metadata": {},
   "outputs": [],
   "source": [
    "\"\"\"Replacing male with 1 and female with 0\"\"\"\n",
    "df1['Gender'] = np.where(df1['Gender']=='male',1,0)"
   ]
  },
  {
   "cell_type": "code",
   "execution_count": 507,
   "id": "5c5aaec7",
   "metadata": {},
   "outputs": [],
   "source": [
    "\"\"\"Changing the string(2 lac) to int(2) and replacing null values with 0\"\"\"\n",
    "df1['Balance_in_existing_bank_account_(lower_limit_of_bucket)'] = \\\n",
    "    np.where(df1['Balance_in_existing_bank_account_(lower_limit_of_bucket)']=='2 lac',2,0)    "
   ]
  },
  {
   "cell_type": "code",
   "execution_count": 508,
   "id": "34bb6566",
   "metadata": {},
   "outputs": [],
   "source": [
    "# Function to extract int from string and leave nan values as it is\n",
    "def change(par):\n",
    "    if pd.isna(par):\n",
    "        return par\n",
    "    else:\n",
    "        par = str(par)\n",
    "        par = par.split()[0]\n",
    "        return int(par)"
   ]
  },
  {
   "cell_type": "code",
   "execution_count": 509,
   "id": "8d100839",
   "metadata": {},
   "outputs": [],
   "source": [
    "\"\"\"Changing the string to int\"\"\"\n",
    "df1.Has_been_employed_for_at_least = \\\n",
    "df1.Has_been_employed_for_at_least.apply(change)\n",
    "\n",
    "df1.Has_been_employed_for_at_most = \\\n",
    "df1.Has_been_employed_for_at_most.apply(change)"
   ]
  },
  {
   "cell_type": "code",
   "execution_count": 510,
   "id": "08e4cab3",
   "metadata": {},
   "outputs": [],
   "source": [
    "\"\"\"Replaing the NaN values by mean\"\"\"\n",
    "mean1 = int(np.floor(df1.Has_been_employed_for_at_least.mean()+0.5))\n",
    "df1.Has_been_employed_for_at_least.fillna(mean1,inplace=True)\n",
    "\n",
    "mean1 = int(np.floor(df1.Has_been_employed_for_at_most.mean()+0.5))\n",
    "\n",
    "df1.Has_been_employed_for_at_most.fillna(mean1,inplace=True)"
   ]
  },
  {
   "cell_type": "code",
   "execution_count": 511,
   "id": "3c422cca",
   "metadata": {},
   "outputs": [],
   "source": [
    "\"\"\"Replacing null values with mode , as its the categorical value\"\"\"\n",
    "df1.Savings_account_balance.fillna(df1.Savings_account_balance.mode(),inplace=True)"
   ]
  },
  {
   "cell_type": "code",
   "execution_count": 512,
   "id": "73f3eda8",
   "metadata": {},
   "outputs": [],
   "source": [
    "### Pick random sample from the column(\"Savings_account_balance\"), and fill it in NaN position\n",
    "df1['Saving_Account_random']=df1['Savings_account_balance']\n",
    "random_sample= \\\n",
    "    df1['Savings_account_balance'].dropna().sample(df1['Savings_account_balance'].isnull().sum(),random_state=0)\n",
    "random_sample.index=df1[df1['Savings_account_balance'].isnull()].index\n",
    "df1.loc[df1['Savings_account_balance'].isnull(),'Saving_Account_random']=random_sample\n",
    "df1.Savings_account_balance = df1.Saving_Account_random\n",
    "df1.drop('Saving_Account_random',inplace=True,axis=1)"
   ]
  },
  {
   "cell_type": "code",
   "execution_count": 513,
   "id": "4d251df1",
   "metadata": {},
   "outputs": [
    {
     "data": {
      "text/plain": [
       "Low          747\n",
       "Medium       126\n",
       "High          72\n",
       "Very high     55\n",
       "Name: Savings_account_balance, dtype: int64"
      ]
     },
     "execution_count": 513,
     "metadata": {},
     "output_type": "execute_result"
    }
   ],
   "source": [
    "df1.Savings_account_balance.value_counts()"
   ]
  },
  {
   "cell_type": "code",
   "execution_count": 514,
   "id": "c6e6c066",
   "metadata": {},
   "outputs": [
    {
     "data": {
      "text/plain": [
       "<AxesSubplot:>"
      ]
     },
     "execution_count": 514,
     "metadata": {},
     "output_type": "execute_result"
    },
    {
     "data": {
      "image/png": "[encoded data removed]",
      "text/plain": [
       "<Figure size 1080x432 with 2 Axes>"
      ]
     },
     "metadata": {
      "needs_background": "light"
     },
     "output_type": "display_data"
    }
   ],
   "source": [
    "\"\"\"No null values left\"\"\"\n",
    "plt.figure(figsize=(15,6))\n",
    "sns.heatmap(df1.isna())"
   ]
  },
  {
   "cell_type": "code",
   "execution_count": 515,
   "id": "fff8ca61",
   "metadata": {},
   "outputs": [
    {
     "data": {
      "text/html": [
       "<div>\n",
       "<style scoped>\n",
       "    .dataframe tbody tr th:only-of-type {\n",
       "        vertical-align: middle;\n",
       "    }\n",
       "\n",
       "    .dataframe tbody tr th {\n",
       "        vertical-align: top;\n",
       "    }\n",
       "\n",
       "    .dataframe thead th {\n",
       "        text-align: right;\n",
       "    }\n",
       "</style>\n",
       "<table border=\"1\" class=\"dataframe\">\n",
       "  <thead>\n",
       "    <tr style=\"text-align: right;\">\n",
       "      <th></th>\n",
       "      <th>loan_application_id</th>\n",
       "      <th>applicant_id</th>\n",
       "      <th>Months_loan_taken_for</th>\n",
       "      <th>Purpose</th>\n",
       "      <th>Principal_loan_amount</th>\n",
       "      <th>EMI_rate_in_percentage_of_disposable_income</th>\n",
       "      <th>Property</th>\n",
       "      <th>Has_coapplicant</th>\n",
       "      <th>Has_guarantor</th>\n",
       "      <th>Other_EMI_plans</th>\n",
       "      <th>Number_of_existing_loans_at_this_bank</th>\n",
       "      <th>Loan_history</th>\n",
       "      <th>high_risk_applicant</th>\n",
       "    </tr>\n",
       "  </thead>\n",
       "  <tbody>\n",
       "    <tr>\n",
       "      <th>0</th>\n",
       "      <td>d68d975e-edad-11ea-8761-1d6f9c1ff461</td>\n",
       "      <td>1469590</td>\n",
       "      <td>6</td>\n",
       "      <td>electronic equipment</td>\n",
       "      <td>1169000</td>\n",
       "      <td>4</td>\n",
       "      <td>real estate</td>\n",
       "      <td>0</td>\n",
       "      <td>0</td>\n",
       "      <td>NaN</td>\n",
       "      <td>2</td>\n",
       "      <td>critical/pending loans at other banks</td>\n",
       "      <td>0</td>\n",
       "    </tr>\n",
       "    <tr>\n",
       "      <th>1</th>\n",
       "      <td>d68d989e-edad-11ea-b1d5-2bcf65006448</td>\n",
       "      <td>1203873</td>\n",
       "      <td>48</td>\n",
       "      <td>electronic equipment</td>\n",
       "      <td>5951000</td>\n",
       "      <td>2</td>\n",
       "      <td>real estate</td>\n",
       "      <td>0</td>\n",
       "      <td>0</td>\n",
       "      <td>NaN</td>\n",
       "      <td>1</td>\n",
       "      <td>existing loans paid back duly till now</td>\n",
       "      <td>1</td>\n",
       "    </tr>\n",
       "    <tr>\n",
       "      <th>2</th>\n",
       "      <td>d68d995c-edad-11ea-814a-1b6716782575</td>\n",
       "      <td>1432761</td>\n",
       "      <td>12</td>\n",
       "      <td>education</td>\n",
       "      <td>2096000</td>\n",
       "      <td>2</td>\n",
       "      <td>real estate</td>\n",
       "      <td>0</td>\n",
       "      <td>0</td>\n",
       "      <td>NaN</td>\n",
       "      <td>1</td>\n",
       "      <td>critical/pending loans at other banks</td>\n",
       "      <td>0</td>\n",
       "    </tr>\n",
       "    <tr>\n",
       "      <th>3</th>\n",
       "      <td>d68d99fc-edad-11ea-8841-17e8848060ae</td>\n",
       "      <td>1207582</td>\n",
       "      <td>42</td>\n",
       "      <td>FF&amp;E</td>\n",
       "      <td>7882000</td>\n",
       "      <td>2</td>\n",
       "      <td>building society savings agreement/life insurance</td>\n",
       "      <td>0</td>\n",
       "      <td>1</td>\n",
       "      <td>NaN</td>\n",
       "      <td>1</td>\n",
       "      <td>existing loans paid back duly till now</td>\n",
       "      <td>0</td>\n",
       "    </tr>\n",
       "    <tr>\n",
       "      <th>4</th>\n",
       "      <td>d68d9a92-edad-11ea-9f3d-1f8682db006a</td>\n",
       "      <td>1674436</td>\n",
       "      <td>24</td>\n",
       "      <td>new vehicle</td>\n",
       "      <td>4870000</td>\n",
       "      <td>3</td>\n",
       "      <td>NaN</td>\n",
       "      <td>0</td>\n",
       "      <td>0</td>\n",
       "      <td>NaN</td>\n",
       "      <td>2</td>\n",
       "      <td>delay in paying off loans in the past</td>\n",
       "      <td>1</td>\n",
       "    </tr>\n",
       "  </tbody>\n",
       "</table>\n",
       "</div>"
      ],
      "text/plain": [
       "                    loan_application_id  applicant_id  Months_loan_taken_for  \\\n",
       "0  d68d975e-edad-11ea-8761-1d6f9c1ff461       1469590                      6   \n",
       "1  d68d989e-edad-11ea-b1d5-2bcf65006448       1203873                     48   \n",
       "2  d68d995c-edad-11ea-814a-1b6716782575       1432761                     12   \n",
       "3  d68d99fc-edad-11ea-8841-17e8848060ae       1207582                     42   \n",
       "4  d68d9a92-edad-11ea-9f3d-1f8682db006a       1674436                     24   \n",
       "\n",
       "                Purpose  Principal_loan_amount  \\\n",
       "0  electronic equipment                1169000   \n",
       "1  electronic equipment                5951000   \n",
       "2             education                2096000   \n",
       "3                  FF&E                7882000   \n",
       "4           new vehicle                4870000   \n",
       "\n",
       "   EMI_rate_in_percentage_of_disposable_income  \\\n",
       "0                                            4   \n",
       "1                                            2   \n",
       "2                                            2   \n",
       "3                                            2   \n",
       "4                                            3   \n",
       "\n",
       "                                            Property  Has_coapplicant  \\\n",
       "0                                        real estate                0   \n",
       "1                                        real estate                0   \n",
       "2                                        real estate                0   \n",
       "3  building society savings agreement/life insurance                0   \n",
       "4                                                NaN                0   \n",
       "\n",
       "   Has_guarantor Other_EMI_plans  Number_of_existing_loans_at_this_bank  \\\n",
       "0              0             NaN                                      2   \n",
       "1              0             NaN                                      1   \n",
       "2              0             NaN                                      1   \n",
       "3              1             NaN                                      1   \n",
       "4              0             NaN                                      2   \n",
       "\n",
       "                             Loan_history  high_risk_applicant  \n",
       "0   critical/pending loans at other banks                    0  \n",
       "1  existing loans paid back duly till now                    1  \n",
       "2   critical/pending loans at other banks                    0  \n",
       "3  existing loans paid back duly till now                    0  \n",
       "4   delay in paying off loans in the past                    1  "
      ]
     },
     "execution_count": 515,
     "metadata": {},
     "output_type": "execute_result"
    }
   ],
   "source": [
    "df2.head()"
   ]
  },
  {
   "cell_type": "code",
   "execution_count": 516,
   "id": "f0b3cca5",
   "metadata": {},
   "outputs": [
    {
     "data": {
      "text/plain": [
       "<AxesSubplot:>"
      ]
     },
     "execution_count": 516,
     "metadata": {},
     "output_type": "execute_result"
    },
    {
     "data": {
      "image/png": "[encoded data removed]",
      "text/plain": [
       "<Figure size 1080x432 with 2 Axes>"
      ]
     },
     "metadata": {
      "needs_background": "light"
     },
     "output_type": "display_data"
    }
   ],
   "source": [
    "plt.figure(figsize=(15,6))\n",
    "sns.heatmap(df2.isna())"
   ]
  },
  {
   "cell_type": "code",
   "execution_count": 517,
   "id": "5fc88281",
   "metadata": {},
   "outputs": [],
   "source": [
    "#Dropping unneccesarily columns \n",
    "df2.drop(['loan_application_id','Purpose','Other_EMI_plans'],inplace=True,axis=1)"
   ]
  },
  {
   "cell_type": "code",
   "execution_count": 518,
   "id": "a42e1db5",
   "metadata": {},
   "outputs": [
    {
     "data": {
      "text/plain": [
       "car or other                                         332\n",
       "real estate                                          282\n",
       "building society savings agreement/life insurance    232\n",
       "Name: Property, dtype: int64"
      ]
     },
     "execution_count": 518,
     "metadata": {},
     "output_type": "execute_result"
    }
   ],
   "source": [
    "\"\"\"Property columns have nan values , we can apply same technique of random sampling filling Nan values\"\"\"\n",
    "df2.Property.value_counts()"
   ]
  },
  {
   "cell_type": "code",
   "execution_count": 519,
   "id": "08e909f9",
   "metadata": {},
   "outputs": [],
   "source": [
    "df2['Property_random']=df2['Property']\n",
    "random_sample=df2['Property'].dropna().sample(df2['Property'].isnull().sum(),random_state=0)\n",
    "random_sample.index=df2[df2['Property'].isnull()].index\n",
    "df2.loc[df2['Property'].isnull(),'Property_random']=random_sample\n",
    "df2.Property = df2.Property_random\n",
    "df2.drop('Property_random',inplace=True,axis=1)"
   ]
  },
  {
   "cell_type": "code",
   "execution_count": 520,
   "id": "04b03fb4",
   "metadata": {},
   "outputs": [
    {
     "data": {
      "text/plain": [
       "applicant_id                                   0\n",
       "Months_loan_taken_for                          0\n",
       "Principal_loan_amount                          0\n",
       "EMI_rate_in_percentage_of_disposable_income    0\n",
       "Property                                       0\n",
       "Has_coapplicant                                0\n",
       "Has_guarantor                                  0\n",
       "Number_of_existing_loans_at_this_bank          0\n",
       "Loan_history                                   0\n",
       "high_risk_applicant                            0\n",
       "dtype: int64"
      ]
     },
     "execution_count": 520,
     "metadata": {},
     "output_type": "execute_result"
    }
   ],
   "source": [
    "df2.isna().sum()"
   ]
  },
  {
   "cell_type": "code",
   "execution_count": 521,
   "id": "f8493ab8",
   "metadata": {},
   "outputs": [],
   "source": [
    "\"\"\"Since df1 and df2 are data of applicatant having unique Applicant id. We can merge the both dataset using left join \n",
    "method\"\"\"\n",
    "df = df2.merge(df1,on='applicant_id',how='left')"
   ]
  },
  {
   "cell_type": "code",
   "execution_count": null,
   "id": "b3beb12f",
   "metadata": {},
   "outputs": [],
   "source": []
  },
  {
   "cell_type": "code",
   "execution_count": 522,
   "id": "5405f774",
   "metadata": {},
   "outputs": [
    {
     "name": "stdout",
     "output_type": "stream",
     "text": [
      "<class 'pandas.core.frame.DataFrame'>\n",
      "Int64Index: 1000 entries, 0 to 999\n",
      "Data columns (total 23 columns):\n",
      " #   Column                                                    Non-Null Count  Dtype  \n",
      "---  ------                                                    --------------  -----  \n",
      " 0   applicant_id                                              1000 non-null   int64  \n",
      " 1   Months_loan_taken_for                                     1000 non-null   int64  \n",
      " 2   Principal_loan_amount                                     1000 non-null   int64  \n",
      " 3   EMI_rate_in_percentage_of_disposable_income               1000 non-null   int64  \n",
      " 4   Property                                                  1000 non-null   object \n",
      " 5   Has_coapplicant                                           1000 non-null   int64  \n",
      " 6   Has_guarantor                                             1000 non-null   int64  \n",
      " 7   Number_of_existing_loans_at_this_bank                     1000 non-null   int64  \n",
      " 8   Loan_history                                              1000 non-null   object \n",
      " 9   high_risk_applicant                                       1000 non-null   int64  \n",
      " 10  Primary_applicant_age_in_years                            1000 non-null   int64  \n",
      " 11  Gender                                                    1000 non-null   int64  \n",
      " 12  Marital_status                                            1000 non-null   object \n",
      " 13  Number_of_dependents                                      1000 non-null   int64  \n",
      " 14  Housing                                                   1000 non-null   object \n",
      " 15  Years_at_current_residence                                1000 non-null   int64  \n",
      " 16  Employment_status                                         1000 non-null   object \n",
      " 17  Has_been_employed_for_at_least                            1000 non-null   float64\n",
      " 18  Has_been_employed_for_at_most                             1000 non-null   float64\n",
      " 19  Foreign_worker                                            1000 non-null   int64  \n",
      " 20  Savings_account_balance                                   1000 non-null   object \n",
      " 21  Balance_in_existing_bank_account_(lower_limit_of_bucket)  1000 non-null   int64  \n",
      " 22  Balance_in_existing_bank_account_(upper_limit_of_bucket)  1000 non-null   int64  \n",
      "dtypes: float64(2), int64(15), object(6)\n",
      "memory usage: 187.5+ KB\n"
     ]
    }
   ],
   "source": [
    "\"\"\"Small info of each columns , still some columns have string values\"\"\"\n",
    "df.info()"
   ]
  },
  {
   "cell_type": "markdown",
   "id": "16da9131",
   "metadata": {},
   "source": [
    "### One_Hot_Encoding\n"
   ]
  },
  {
   "cell_type": "code",
   "execution_count": 523,
   "id": "9c6acc89",
   "metadata": {},
   "outputs": [],
   "source": [
    "col = ['Savings_account_balance','Housing','Property','Loan_history','Employment_status','Marital_status']"
   ]
  },
  {
   "cell_type": "code",
   "execution_count": 524,
   "id": "babe5549",
   "metadata": {},
   "outputs": [],
   "source": [
    "df =pd.get_dummies(df,columns=col)"
   ]
  },
  {
   "cell_type": "code",
   "execution_count": 525,
   "id": "727a5b7d",
   "metadata": {},
   "outputs": [
    {
     "data": {
      "text/plain": [
       "(40,)"
      ]
     },
     "execution_count": 525,
     "metadata": {},
     "output_type": "execute_result"
    }
   ],
   "source": [
    "df.columns.shape"
   ]
  },
  {
   "cell_type": "code",
   "execution_count": 526,
   "id": "780dfb67",
   "metadata": {},
   "outputs": [
    {
     "name": "stdout",
     "output_type": "stream",
     "text": [
      "<class 'pandas.core.frame.DataFrame'>\n",
      "Int64Index: 1000 entries, 0 to 999\n",
      "Data columns (total 40 columns):\n",
      " #   Column                                                                              Non-Null Count  Dtype  \n",
      "---  ------                                                                              --------------  -----  \n",
      " 0   applicant_id                                                                        1000 non-null   int64  \n",
      " 1   Months_loan_taken_for                                                               1000 non-null   int64  \n",
      " 2   Principal_loan_amount                                                               1000 non-null   int64  \n",
      " 3   EMI_rate_in_percentage_of_disposable_income                                         1000 non-null   int64  \n",
      " 4   Has_coapplicant                                                                     1000 non-null   int64  \n",
      " 5   Has_guarantor                                                                       1000 non-null   int64  \n",
      " 6   Number_of_existing_loans_at_this_bank                                               1000 non-null   int64  \n",
      " 7   high_risk_applicant                                                                 1000 non-null   int64  \n",
      " 8   Primary_applicant_age_in_years                                                      1000 non-null   int64  \n",
      " 9   Gender                                                                              1000 non-null   int64  \n",
      " 10  Number_of_dependents                                                                1000 non-null   int64  \n",
      " 11  Years_at_current_residence                                                          1000 non-null   int64  \n",
      " 12  Has_been_employed_for_at_least                                                      1000 non-null   float64\n",
      " 13  Has_been_employed_for_at_most                                                       1000 non-null   float64\n",
      " 14  Foreign_worker                                                                      1000 non-null   int64  \n",
      " 15  Balance_in_existing_bank_account_(lower_limit_of_bucket)                            1000 non-null   int64  \n",
      " 16  Balance_in_existing_bank_account_(upper_limit_of_bucket)                            1000 non-null   int64  \n",
      " 17  Savings_account_balance_High                                                        1000 non-null   uint8  \n",
      " 18  Savings_account_balance_Low                                                         1000 non-null   uint8  \n",
      " 19  Savings_account_balance_Medium                                                      1000 non-null   uint8  \n",
      " 20  Savings_account_balance_Very high                                                   1000 non-null   uint8  \n",
      " 21  Housing_for free                                                                    1000 non-null   uint8  \n",
      " 22  Housing_own                                                                         1000 non-null   uint8  \n",
      " 23  Housing_rent                                                                        1000 non-null   uint8  \n",
      " 24  Property_building society savings agreement/life insurance                          1000 non-null   uint8  \n",
      " 25  Property_car or other                                                               1000 non-null   uint8  \n",
      " 26  Property_real estate                                                                1000 non-null   uint8  \n",
      " 27  Loan_history_all loans at this bank paid back duly                                  1000 non-null   uint8  \n",
      " 28  Loan_history_critical/pending loans at other banks                                  1000 non-null   uint8  \n",
      " 29  Loan_history_delay in paying off loans in the past                                  1000 non-null   uint8  \n",
      " 30  Loan_history_existing loans paid back duly till now                                 1000 non-null   uint8  \n",
      " 31  Loan_history_no loans taken/all loans paid back duly                                1000 non-null   uint8  \n",
      " 32  Employment_status_management / self-employed / highly qualified employee / officer  1000 non-null   uint8  \n",
      " 33  Employment_status_skilled employee / official                                       1000 non-null   uint8  \n",
      " 34  Employment_status_unemployed / unskilled - non-resident                             1000 non-null   uint8  \n",
      " 35  Employment_status_unskilled - resident                                              1000 non-null   uint8  \n",
      " 36  Marital_status_divorced/separated                                                   1000 non-null   uint8  \n",
      " 37  Marital_status_divorced/separated/married                                           1000 non-null   uint8  \n",
      " 38  Marital_status_married/widowed                                                      1000 non-null   uint8  \n",
      " 39  Marital_status_single                                                               1000 non-null   uint8  \n",
      "dtypes: float64(2), int64(15), uint8(23)\n",
      "memory usage: 163.1 KB\n"
     ]
    }
   ],
   "source": [
    "# Each column is int now\n",
    "df.info()"
   ]
  },
  {
   "cell_type": "code",
   "execution_count": 527,
   "id": "5ed3eeab",
   "metadata": {},
   "outputs": [],
   "source": [
    "# Now we dont need applicantid , so we can remove it\n",
    "df.drop('applicant_id',inplace=True,axis=1)"
   ]
  },
  {
   "cell_type": "code",
   "execution_count": 528,
   "id": "64077652",
   "metadata": {},
   "outputs": [],
   "source": [
    "# diving whole df into X(independent var) and y(dependent variable)\n",
    "X = df.drop('high_risk_applicant',axis=1)\n",
    "y = df['high_risk_applicant']"
   ]
  },
  {
   "cell_type": "code",
   "execution_count": 529,
   "id": "83fc471c",
   "metadata": {},
   "outputs": [],
   "source": [
    "### Importing Neccessary sklearn library \n",
    "from sklearn.preprocessing import StandardScaler\n",
    "from sklearn.model_selection import train_test_split\n",
    "from sklearn.decomposition import PCA,KernelPCA"
   ]
  },
  {
   "cell_type": "code",
   "execution_count": 530,
   "id": "a8ccb187",
   "metadata": {},
   "outputs": [],
   "source": [
    "\"\"\" Since each column have its own diff scale, we should bring them on one scale which will cause Gradient Descent to \n",
    "converge faster and also increase models accuracy\"\"\"\n",
    "ss = StandardScaler() ## Perform Normal distribution\n",
    "X = ss.fit_transform(X) ## fit_transform is to apply change and replace original with result of transform"
   ]
  },
  {
   "cell_type": "markdown",
   "id": "a689afe9",
   "metadata": {},
   "source": [
    "### Dimensionality Reduction / Feature Selection\n"
   ]
  },
  {
   "cell_type": "markdown",
   "id": "67221337",
   "metadata": {},
   "source": [
    "We have total of 38 features , some of them wont contribute to result, will result in bringing noise which will reduce\n",
    "the models accuracy. We should keep only those features which are relevant to result and get rid of others"
   ]
  },
  {
   "cell_type": "code",
   "execution_count": 531,
   "id": "ec73f77a",
   "metadata": {},
   "outputs": [
    {
     "data": {
      "text/plain": [
       "array([9.17169045e+00, 6.68473580e+00, 5.87499814e+00, 5.51189393e+00,\n",
       "       5.19416727e+00, 4.71836458e+00, 4.27401504e+00, 3.86542524e+00,\n",
       "       3.69690961e+00, 3.45291013e+00, 3.43207337e+00, 3.25632148e+00,\n",
       "       3.06421039e+00, 2.95048544e+00, 2.84647933e+00, 2.79889977e+00,\n",
       "       2.73042341e+00, 2.62787325e+00, 2.54746232e+00, 2.47353731e+00,\n",
       "       2.36777260e+00, 2.30175506e+00, 2.15503048e+00, 2.02507902e+00,\n",
       "       1.99361665e+00, 1.89138480e+00, 1.69969266e+00, 1.45198184e+00,\n",
       "       1.21490925e+00, 1.07842035e+00, 6.47481015e-01, 1.80879701e-30,\n",
       "       6.66760999e-31, 5.51507978e-31, 3.58318768e-31, 2.82631182e-31,\n",
       "       1.75372348e-31, 4.13952034e-32])"
      ]
     },
     "execution_count": 531,
     "metadata": {},
     "output_type": "execute_result"
    }
   ],
   "source": [
    "\"\"\"PCA looks for the explained variance of each columns\"\"\"\n",
    "pca_39 = PCA(n_components=38,random_state=42)\n",
    "X_pca38 = pca_39.fit_transform(X)\n",
    "pca_39.explained_variance_ratio_*100"
   ]
  },
  {
   "cell_type": "markdown",
   "id": "c8a4fd6f",
   "metadata": {},
   "source": [
    "As we can see last few columns have worse variance ration, they are not relevant for prediction"
   ]
  },
  {
   "cell_type": "code",
   "execution_count": 532,
   "id": "61e53e65",
   "metadata": {},
   "outputs": [
    {
     "data": {
      "text/plain": [
       "Text(0, 0.5, 'Explained Variance')"
      ]
     },
     "execution_count": 532,
     "metadata": {},
     "output_type": "execute_result"
    },
    {
     "data": {
      "image/png": "[encoded data removed]",
      "text/plain": [
       "<Figure size 720x360 with 1 Axes>"
      ]
     },
     "metadata": {
      "needs_background": "light"
     },
     "output_type": "display_data"
    }
   ],
   "source": [
    "\"\"\"Plotting the Explained variance vs no of columns \"\"\"\n",
    "plt.figure(figsize=(10,5))\n",
    "plt.plot(np.cumsum(pca_39.explained_variance_ratio_))\n",
    "plt.xlabel('No of Features')\n",
    "plt.ylabel('Explained Variance')\n"
   ]
  },
  {
   "cell_type": "code",
   "execution_count": 533,
   "id": "797c743f",
   "metadata": {},
   "outputs": [],
   "source": [
    "\"\"\"Cumulative sum of explained_variance_ratio\"\"\"\n",
    "cumsum = np.cumsum(pca_39.explained_variance_ratio_)"
   ]
  },
  {
   "cell_type": "code",
   "execution_count": 534,
   "id": "a23f3200",
   "metadata": {},
   "outputs": [
    {
     "data": {
      "text/plain": [
       "27"
      ]
     },
     "execution_count": 534,
     "metadata": {},
     "output_type": "execute_result"
    }
   ],
   "source": [
    "\"\"\" We will take those columns which will contribute upto 95% variance and will drop remaining\"\"\"\n",
    "d = np.argmax(cumsum > .95)+1\n",
    "pca = PCA(n_components=d,random_state=42)\n",
    "X_reduced = pca.fit_transform(X)\n",
    "d # no of columns left , will be used in making prediction"
   ]
  },
  {
   "cell_type": "code",
   "execution_count": 535,
   "id": "d60b285c",
   "metadata": {},
   "outputs": [
    {
     "data": {
      "text/plain": [
       "0    700\n",
       "1    300\n",
       "Name: high_risk_applicant, dtype: int64"
      ]
     },
     "execution_count": 535,
     "metadata": {},
     "output_type": "execute_result"
    }
   ],
   "source": [
    "y.value_counts()"
   ]
  },
  {
   "cell_type": "markdown",
   "id": "12420efe",
   "metadata": {},
   "source": [
    "As we can see , our dataset is highly imbalanced , positive class appears 700 times and 0 class only 300 times . If our model even always say yes, it will be 70% times correct. To ensure that the each class is get predicted with equal probability , we want equal instance of each class ."
   ]
  },
  {
   "cell_type": "code",
   "execution_count": 536,
   "id": "0ee77399",
   "metadata": {},
   "outputs": [],
   "source": [
    "\"\"\"Smote create new synthetic data points , thus upsample lower class\"\"\"\n",
    "oversample = SMOTE()\n",
    "X,y = oversample.fit_resample(X_reduced,y)"
   ]
  },
  {
   "cell_type": "code",
   "execution_count": 537,
   "id": "49a43afb",
   "metadata": {},
   "outputs": [
    {
     "data": {
      "text/plain": [
       "0    700\n",
       "1    700\n",
       "Name: high_risk_applicant, dtype: int64"
      ]
     },
     "execution_count": 537,
     "metadata": {},
     "output_type": "execute_result"
    }
   ],
   "source": [
    "\"\"\"Now both class have same amount of instance\"\"\"\n",
    "y.value_counts()"
   ]
  },
  {
   "cell_type": "markdown",
   "id": "16371985",
   "metadata": {},
   "source": [
    "### Model Building"
   ]
  },
  {
   "cell_type": "code",
   "execution_count": 538,
   "id": "92309950",
   "metadata": {},
   "outputs": [],
   "source": [
    "\n",
    "\"\"\"Splitting the x,y into training and test set , test set = .25*train set\"\"\"\n",
    "X_train,X_test,y_train,y_test = train_test_split(X,y,stratify=y,test_size=.25,random_state=40)"
   ]
  },
  {
   "cell_type": "code",
   "execution_count": 539,
   "id": "b6c8d21a",
   "metadata": {},
   "outputs": [],
   "source": [
    "\"\"\"Importing neccessary libraries\"\"\"\n",
    "import lightgbm as lgb\n",
    "from sklearn.tree import DecisionTreeClassifier \n",
    "from sklearn.ensemble import RandomForestClassifier , AdaBoostClassifier , VotingClassifier\n",
    "from sklearn.linear_model import LogisticRegression\n",
    "from sklearn.model_selection import GridSearchCV\n",
    "from sklearn.naive_bayes import GaussianNB\n",
    "from sklearn.svm import SVC\n",
    "from sklearn.metrics import precision_score , accuracy_score , recall_score\n",
    "from sklearn.metrics import classification_report , confusion_matrix , ConfusionMatrixDisplay\n",
    "import xgboost\n",
    "from sklearn.model_selection import cross_val_predict"
   ]
  },
  {
   "cell_type": "code",
   "execution_count": 540,
   "id": "4b1b709b",
   "metadata": {},
   "outputs": [
    {
     "data": {
      "text/plain": [
       "1    175\n",
       "0    175\n",
       "Name: high_risk_applicant, dtype: int64"
      ]
     },
     "execution_count": 540,
     "metadata": {},
     "output_type": "execute_result"
    }
   ],
   "source": [
    "# out of 1400 dataset 1050 will be used for training and 350 for testing\n",
    "y_test.value_counts()"
   ]
  },
  {
   "cell_type": "code",
   "execution_count": 564,
   "id": "3f671929",
   "metadata": {},
   "outputs": [],
   "source": [
    "\"\"\"Creating instance of each clf. The Hyperparams used are found using GridSearchCV\"\"\"\n",
    "lgbm_clf = LGBMClassifier()\n",
    "xg_clf = xgboost.XGBClassifier()\n",
    "ada_clf = AdaBoostClassifier(base_estimator=DecisionTreeClassifier(max_depth=4),n_estimators=200,learning_rate=0.5,\n",
    "                            algorithm='SAMME.R')\n",
    "gnb_clf = GaussianNB()\n",
    "svc_clf = SVC(C = 0.7,gamma=0.07,probability=True) \n",
    "rfc_clf = RandomForestClassifier(n_estimators=200,max_depth=4)\n",
    "lr_clf = LogisticRegression()"
   ]
  },
  {
   "cell_type": "markdown",
   "id": "f627d2c0",
   "metadata": {},
   "source": [
    "Our problem statement wants that if model says loan has less risk , its prediction accuracy for yes should be high,ie \n",
    "we want a high precision "
   ]
  },
  {
   "cell_type": "code",
   "execution_count": 565,
   "id": "60819872",
   "metadata": {},
   "outputs": [],
   "source": [
    "\"\"\"We can get the decision function for each clf , and set the threshold in such a way that we can get the desired \n",
    "precision we want , but there exist Precision/Recall tradeoff ie increasing precision will decrease recall \n",
    "and vice versa . we will set our threshold in such a way that we have good precion with significant recall in hand\"\"\"\n",
    "y_scores = cross_val_predict(svc_clf,X_train,y_train,cv=3,method='decision_function')"
   ]
  },
  {
   "cell_type": "code",
   "execution_count": 566,
   "id": "1444edc3",
   "metadata": {},
   "outputs": [],
   "source": [
    "from sklearn.metrics import precision_recall_curve\n",
    "precisions , recalls , threshold = precision_recall_curve(y_train,y_scores)"
   ]
  },
  {
   "cell_type": "code",
   "execution_count": 567,
   "id": "dcd345da",
   "metadata": {},
   "outputs": [
    {
     "data": {
      "image/png": "[encoded data removed]",
      "text/plain": [
       "<Figure size 432x288 with 1 Axes>"
      ]
     },
     "metadata": {
      "needs_background": "light"
     },
     "output_type": "display_data"
    }
   ],
   "source": [
    "\"\"\"Plotting the change in precision& recall with threshold\"\"\"\n",
    "plt.plot(threshold,precisions[:-1],\"b--\",label=\"Precision\")\n",
    "plt.plot(threshold,recalls[:-1],\"r-\",label=\"Precision\")\n",
    "plt.show()"
   ]
  },
  {
   "cell_type": "code",
   "execution_count": 568,
   "id": "bfce210c",
   "metadata": {},
   "outputs": [
    {
     "data": {
      "text/plain": [
       "[<matplotlib.lines.Line2D at 0x28caa35b0>]"
      ]
     },
     "execution_count": 568,
     "metadata": {},
     "output_type": "execute_result"
    },
    {
     "data": {
      "image/png": "[encoded data removed]",
      "text/plain": [
       "<Figure size 432x288 with 1 Axes>"
      ]
     },
     "metadata": {
      "needs_background": "light"
     },
     "output_type": "display_data"
    }
   ],
   "source": [
    "plt.plot(precisions[:-1],recalls[:-1])"
   ]
  },
  {
   "cell_type": "code",
   "execution_count": 569,
   "id": "e4438f86",
   "metadata": {},
   "outputs": [],
   "source": [
    "\"\"\"Getting the threshold value where precision == recall\"\"\"\n",
    "threshold_precision = threshold[np.argmax(precisions == recalls)]"
   ]
  },
  {
   "cell_type": "code",
   "execution_count": 570,
   "id": "44e90e3c",
   "metadata": {},
   "outputs": [
    {
     "data": {
      "text/plain": [
       "-0.058765558860586375"
      ]
     },
     "execution_count": 570,
     "metadata": {},
     "output_type": "execute_result"
    }
   ],
   "source": [
    "\"\"\"Say we want 80% precision\"\"\"\n",
    "threshold80 = threshold[np.argmax(precisions > 0.8)]\n",
    "threshold80"
   ]
  },
  {
   "cell_type": "code",
   "execution_count": 571,
   "id": "386ee9de",
   "metadata": {},
   "outputs": [],
   "source": [
    "y_train_90 = (y_scores > threshold90)"
   ]
  },
  {
   "cell_type": "code",
   "execution_count": 572,
   "id": "3ff56f1c",
   "metadata": {},
   "outputs": [
    {
     "data": {
      "text/plain": [
       "array([False, False, False, ..., False, False, False])"
      ]
     },
     "execution_count": 572,
     "metadata": {},
     "output_type": "execute_result"
    }
   ],
   "source": [
    "y_train_90"
   ]
  },
  {
   "cell_type": "code",
   "execution_count": 573,
   "id": "726dee9f",
   "metadata": {},
   "outputs": [
    {
     "data": {
      "text/plain": [
       "0.7723809523809524"
      ]
     },
     "execution_count": 573,
     "metadata": {},
     "output_type": "execute_result"
    }
   ],
   "source": [
    "accuracy_score(y_train,y_train_90)"
   ]
  },
  {
   "cell_type": "code",
   "execution_count": 574,
   "id": "51daca98",
   "metadata": {},
   "outputs": [
    {
     "data": {
      "text/plain": [
       "0.8163716814159292"
      ]
     },
     "execution_count": 574,
     "metadata": {},
     "output_type": "execute_result"
    }
   ],
   "source": [
    "precision_score(y_train,y_train_90)"
   ]
  },
  {
   "cell_type": "code",
   "execution_count": 575,
   "id": "6ac61add",
   "metadata": {},
   "outputs": [
    {
     "data": {
      "text/plain": [
       "0.7028571428571428"
      ]
     },
     "execution_count": 575,
     "metadata": {},
     "output_type": "execute_result"
    }
   ],
   "source": [
    "recall_score(y_train,y_train_90)"
   ]
  },
  {
   "cell_type": "markdown",
   "id": "fa5c69cc",
   "metadata": {},
   "source": [
    "We will use ensemble method of varioud different classifier and will perform voting among their result to get the final prediction"
   ]
  },
  {
   "cell_type": "code",
   "execution_count": 576,
   "id": "77c5b20b",
   "metadata": {},
   "outputs": [],
   "source": [
    "def CreateModel(name,model,X_train,y_train,X_test,y_test):\n",
    "    model.fit(X_train,y_train)\n",
    "    pred = model.predict(X_test)\n",
    "    print(f\"{name} Classifier\")\n",
    "    print(classification_report(y_test,pred,zero_division=0))\n",
    "    cm = confusion_matrix(y_test,pred)\n",
    "    sns.heatmap(cm,annot=True,fmt='g',cmap='Blues')\n",
    "    plt.show()\n",
    "\n",
    "    print(\"/*****************************************************************/\")\n",
    "    "
   ]
  },
  {
   "cell_type": "code",
   "execution_count": 577,
   "id": "54fbdc2e",
   "metadata": {},
   "outputs": [],
   "source": [
    "Models = {\n",
    "    \"LightGBM\":lgbm_clf,\n",
    "    \"Gaussian Naive Bayes\":gnb_clf,\n",
    "    \"RBF Kernel SVC\":svc_clf,\n",
    "    \"Random Forest Classifier\":rfc_clf,\n",
    "    \"XGBoost\":xg_clf,\n",
    "    \"AdaBoost\":ada_clf,\n",
    "    \"Logistic Regression\":lr_clf\n",
    "}"
   ]
  },
  {
   "cell_type": "code",
   "execution_count": 578,
   "id": "249eb86c",
   "metadata": {},
   "outputs": [
    {
     "name": "stdout",
     "output_type": "stream",
     "text": [
      "LightGBM Classifier\n",
      "              precision    recall  f1-score   support\n",
      "\n",
      "           0       0.82      0.74      0.77       175\n",
      "           1       0.76      0.83      0.80       175\n",
      "\n",
      "    accuracy                           0.79       350\n",
      "   macro avg       0.79      0.79      0.79       350\n",
      "weighted avg       0.79      0.79      0.79       350\n",
      "\n"
     ]
    },
    {
     "data": {
      "image/png": "[encoded data removed]",
      "text/plain": [
       "<Figure size 432x288 with 2 Axes>"
      ]
     },
     "metadata": {
      "needs_background": "light"
     },
     "output_type": "display_data"
    },
    {
     "name": "stdout",
     "output_type": "stream",
     "text": [
      "/*****************************************************************/\n",
      "Gaussian Naive Bayes Classifier\n",
      "              precision    recall  f1-score   support\n",
      "\n",
      "           0       0.65      0.57      0.60       175\n",
      "           1       0.61      0.69      0.65       175\n",
      "\n",
      "    accuracy                           0.63       350\n",
      "   macro avg       0.63      0.63      0.63       350\n",
      "weighted avg       0.63      0.63      0.63       350\n",
      "\n"
     ]
    },
    {
     "data": {
      "image/png": "[encoded data removed]",
      "text/plain": [
       "<Figure size 432x288 with 2 Axes>"
      ]
     },
     "metadata": {
      "needs_background": "light"
     },
     "output_type": "display_data"
    },
    {
     "name": "stdout",
     "output_type": "stream",
     "text": [
      "/*****************************************************************/\n",
      "RBF Kernel SVC Classifier\n",
      "              precision    recall  f1-score   support\n",
      "\n",
      "           0       0.78      0.80      0.79       175\n",
      "           1       0.80      0.78      0.79       175\n",
      "\n",
      "    accuracy                           0.79       350\n",
      "   macro avg       0.79      0.79      0.79       350\n",
      "weighted avg       0.79      0.79      0.79       350\n",
      "\n"
     ]
    },
    {
     "data": {
      "image/png": "[encoded data removed]",
      "text/plain": [
       "<Figure size 432x288 with 2 Axes>"
      ]
     },
     "metadata": {
      "needs_background": "light"
     },
     "output_type": "display_data"
    },
    {
     "name": "stdout",
     "output_type": "stream",
     "text": [
      "/*****************************************************************/\n",
      "Random Forest Classifier Classifier\n",
      "              precision    recall  f1-score   support\n",
      "\n",
      "           0       0.69      0.58      0.63       175\n",
      "           1       0.64      0.74      0.69       175\n",
      "\n",
      "    accuracy                           0.66       350\n",
      "   macro avg       0.67      0.66      0.66       350\n",
      "weighted avg       0.67      0.66      0.66       350\n",
      "\n"
     ]
    },
    {
     "data": {
      "image/png": "[encoded data removed]",
      "text/plain": [
       "<Figure size 432x288 with 2 Axes>"
      ]
     },
     "metadata": {
      "needs_background": "light"
     },
     "output_type": "display_data"
    },
    {
     "name": "stdout",
     "output_type": "stream",
     "text": [
      "/*****************************************************************/\n",
      "XGBoost Classifier\n",
      "              precision    recall  f1-score   support\n",
      "\n",
      "           0       0.78      0.71      0.74       175\n",
      "           1       0.73      0.81      0.77       175\n",
      "\n",
      "    accuracy                           0.76       350\n",
      "   macro avg       0.76      0.76      0.76       350\n",
      "weighted avg       0.76      0.76      0.76       350\n",
      "\n"
     ]
    },
    {
     "data": {
      "image/png": "[encoded data removed]",
      "text/plain": [
       "<Figure size 432x288 with 2 Axes>"
      ]
     },
     "metadata": {
      "needs_background": "light"
     },
     "output_type": "display_data"
    },
    {
     "name": "stdout",
     "output_type": "stream",
     "text": [
      "/*****************************************************************/\n",
      "AdaBoost Classifier\n",
      "              precision    recall  f1-score   support\n",
      "\n",
      "           0       0.79      0.71      0.75       175\n",
      "           1       0.74      0.81      0.77       175\n",
      "\n",
      "    accuracy                           0.76       350\n",
      "   macro avg       0.76      0.76      0.76       350\n",
      "weighted avg       0.76      0.76      0.76       350\n",
      "\n"
     ]
    },
    {
     "data": {
      "image/png": "[encoded data removed]",
      "text/plain": [
       "<Figure size 432x288 with 2 Axes>"
      ]
     },
     "metadata": {
      "needs_background": "light"
     },
     "output_type": "display_data"
    },
    {
     "name": "stdout",
     "output_type": "stream",
     "text": [
      "/*****************************************************************/\n",
      "Logistic Regression Classifier\n",
      "              precision    recall  f1-score   support\n",
      "\n",
      "           0       0.70      0.57      0.63       175\n",
      "           1       0.64      0.75      0.69       175\n",
      "\n",
      "    accuracy                           0.66       350\n",
      "   macro avg       0.67      0.66      0.66       350\n",
      "weighted avg       0.67      0.66      0.66       350\n",
      "\n"
     ]
    },
    {
     "data": {
      "image/png": "[encoded data removed]",
      "text/plain": [
       "<Figure size 432x288 with 2 Axes>"
      ]
     },
     "metadata": {
      "needs_background": "light"
     },
     "output_type": "display_data"
    },
    {
     "name": "stdout",
     "output_type": "stream",
     "text": [
      "/*****************************************************************/\n"
     ]
    }
   ],
   "source": [
    "for model in Models:\n",
    "    CreateModel(model,Models[model],X_train,y_train,X_test,y_test)"
   ]
  },
  {
   "cell_type": "code",
   "execution_count": 556,
   "id": "e3e4be0d",
   "metadata": {},
   "outputs": [
    {
     "name": "stdout",
     "output_type": "stream",
     "text": [
      "Voting Classifier Classifier\n",
      "              precision    recall  f1-score   support\n",
      "\n",
      "           0       0.81      0.69      0.74       175\n",
      "           1       0.73      0.84      0.78       175\n",
      "\n",
      "    accuracy                           0.76       350\n",
      "   macro avg       0.77      0.76      0.76       350\n",
      "weighted avg       0.77      0.76      0.76       350\n",
      "\n"
     ]
    },
    {
     "data": {
      "image/png": "[encoded data removed]",
      "text/plain": [
       "<Figure size 432x288 with 2 Axes>"
      ]
     },
     "metadata": {
      "needs_background": "light"
     },
     "output_type": "display_data"
    },
    {
     "name": "stdout",
     "output_type": "stream",
     "text": [
      "/*****************************************************************/\n"
     ]
    }
   ],
   "source": [
    "from sklearn.ensemble import VotingClassifier\n",
    "voting_clf = VotingClassifier(estimators=[('nb',gnb_clf),('svc',svc_clf),('xgboost',xg_clf),\n",
    "                    (\"rfc\",rfc_clf),(\"adaboost\",ada_clf),(\"lgbm\",lgbm_clf),(\"lr\",lr_clf)],\n",
    "                             voting=\"soft\")\n",
    "CreateModel(\"Voting Classifier\",voting_clf,X_train,y_train,X_test,y_test)"
   ]
  },
  {
   "cell_type": "code",
   "execution_count": 557,
   "id": "cca42df3",
   "metadata": {},
   "outputs": [
    {
     "data": {
      "text/plain": [
       "0.84"
      ]
     },
     "execution_count": 557,
     "metadata": {},
     "output_type": "execute_result"
    }
   ],
   "source": [
    "precision_score(voting_clf.predict(X_test),y_test)"
   ]
  },
  {
   "cell_type": "code",
   "execution_count": 558,
   "id": "be0403c8",
   "metadata": {},
   "outputs": [],
   "source": [
    "prob = voting_clf.predict_proba(X_test)"
   ]
  },
  {
   "cell_type": "code",
   "execution_count": 559,
   "id": "0802ac22",
   "metadata": {},
   "outputs": [
    {
     "data": {
      "text/plain": [
       "(350, 2)"
      ]
     },
     "execution_count": 559,
     "metadata": {},
     "output_type": "execute_result"
    }
   ],
   "source": [
    "prob.shape"
   ]
  },
  {
   "cell_type": "code",
   "execution_count": 560,
   "id": "6d2ccd83",
   "metadata": {},
   "outputs": [],
   "source": [
    "from sklearn.metrics import roc_auc_score , roc_curve"
   ]
  },
  {
   "cell_type": "code",
   "execution_count": 561,
   "id": "b9f4cfa7",
   "metadata": {},
   "outputs": [],
   "source": [
    "def plot_roc_curve(fpr, tpr):\n",
    "    plt.plot(fpr, tpr, color='orange', label='ROC')\n",
    "    plt.plot([0, 1], [0, 1], color='darkblue', linestyle='--')\n",
    "    plt.xlabel('False Positive Rate')\n",
    "    plt.ylabel('True Positive Rate')\n",
    "    plt.title('Receiver Operating Characteristic (ROC) Curve')\n",
    "    plt.legend()\n",
    "    plt.show()"
   ]
  },
  {
   "cell_type": "code",
   "execution_count": 562,
   "id": "d8741ee2",
   "metadata": {},
   "outputs": [
    {
     "data": {
      "image/png": "[encoded data removed]",
      "text/plain": [
       "<Figure size 432x288 with 1 Axes>"
      ]
     },
     "metadata": {
      "needs_background": "light"
     },
     "output_type": "display_data"
    },
    {
     "name": "stdout",
     "output_type": "stream",
     "text": [
      "AUC-ROC : 0.8464979591836735\n"
     ]
    }
   ],
   "source": [
    "probs = voting_clf.predict_proba(X_test)\n",
    "probs = probs[:, 1]\n",
    "auc = roc_auc_score(y_test, probs)\n",
    "fpr, tpr, thresholds = roc_curve(y_test, probs)\n",
    "plot_roc_curve(fpr, tpr)\n",
    "print(\"AUC-ROC :\",auc)"
   ]
  },
  {
   "cell_type": "code",
   "execution_count": null,
   "id": "a7297c5a",
   "metadata": {},
   "outputs": [],
   "source": []
  }
 ],
 "metadata": {
  "kernelspec": {
   "display_name": "Python 3 (ipykernel)",
   "language": "python",
   "name": "python3"
  },
  "language_info": {
   "codemirror_mode": {
    "name": "ipython",
    "version": 3
   },
   "file_extension": ".py",
   "mimetype": "text/x-python",
   "name": "python",
   "nbconvert_exporter": "python",
   "pygments_lexer": "ipython3",
   "version": "3.8.13"
  }
 },
 "nbformat": 4,
 "nbformat_minor": 5
}
