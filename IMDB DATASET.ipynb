{
 "cells": [
  {
   "cell_type": "code",
   "execution_count": 119,
   "id": "450154e3",
   "metadata": {},
   "outputs": [],
   "source": [
    "import numpy as np\n",
    "import pandas as pd\n",
    "import matplotlib.pyplot as plt\n",
    "import tensorflow as tf\n",
    "from tensorflow.keras import models, layers\n",
    "from tensorflow.keras.datasets import imdb\n"
   ]
  },
  {
   "cell_type": "code",
   "execution_count": 120,
   "id": "fe6cf755",
   "metadata": {},
   "outputs": [],
   "source": [
    "(X_train,y_train),(X_test,y_test)  = imdb.load_data(num_words=10000)"
   ]
  },
  {
   "cell_type": "code",
   "execution_count": 121,
   "id": "e78c622d",
   "metadata": {},
   "outputs": [
    {
     "data": {
      "text/plain": [
       "9999"
      ]
     },
     "execution_count": 121,
     "metadata": {},
     "output_type": "execute_result"
    }
   ],
   "source": [
    "a = [max(s) for s in X_train]\n",
    "max(a)"
   ]
  },
  {
   "cell_type": "code",
   "execution_count": 122,
   "id": "f453ce29",
   "metadata": {},
   "outputs": [
    {
     "data": {
      "text/plain": [
       "189"
      ]
     },
     "execution_count": 122,
     "metadata": {},
     "output_type": "execute_result"
    }
   ],
   "source": [
    "len(X_train[1])"
   ]
  },
  {
   "cell_type": "code",
   "execution_count": 123,
   "id": "347374ea",
   "metadata": {},
   "outputs": [
    {
     "data": {
      "text/plain": [
       "25000"
      ]
     },
     "execution_count": 123,
     "metadata": {},
     "output_type": "execute_result"
    }
   ],
   "source": [
    "len(X_train)"
   ]
  },
  {
   "cell_type": "code",
   "execution_count": 124,
   "id": "81eb924d",
   "metadata": {},
   "outputs": [
    {
     "data": {
      "text/plain": [
       "array([[0., 1., 1., ..., 0., 0., 0.],\n",
       "       [0., 1., 1., ..., 0., 0., 0.],\n",
       "       [0., 1., 1., ..., 0., 0., 0.],\n",
       "       ...,\n",
       "       [0., 1., 1., ..., 0., 0., 0.],\n",
       "       [0., 1., 1., ..., 0., 0., 0.],\n",
       "       [0., 1., 1., ..., 0., 0., 0.]])"
      ]
     },
     "execution_count": 124,
     "metadata": {},
     "output_type": "execute_result"
    }
   ],
   "source": [
    "def onehotEncoding(sequence,dim = 10000):\n",
    "    res = np.zeros((len(sequence),dim))\n",
    "\n",
    "    for i,seq in enumerate(sequence):\n",
    "#         print(i,seq)\n",
    "          res[i,seq] = 1;\n",
    "    return res\n",
    "\n",
    "onehotEncoding(X_train)"
   ]
  },
  {
   "cell_type": "code",
   "execution_count": 125,
   "id": "f9d4e4a2",
   "metadata": {},
   "outputs": [],
   "source": [
    "X_train = onehotEncoding(X_train)\n",
    "X_test = onehotEncoding(X_test)"
   ]
  },
  {
   "cell_type": "code",
   "execution_count": 126,
   "id": "f6b4ca2e",
   "metadata": {},
   "outputs": [],
   "source": [
    "y_train = np.asarray(y_train).astype('float32')\n",
    "y_test = np.asarray(y_test).astype('float32')"
   ]
  },
  {
   "cell_type": "code",
   "execution_count": 127,
   "id": "75ec2603",
   "metadata": {},
   "outputs": [],
   "source": [
    "X_partial = X_train[10000:]\n",
    "y_partial = y_train[10000:]\n",
    "X_val = X_train[:10000]\n",
    "y_val = y_train[:10000]"
   ]
  },
  {
   "cell_type": "code",
   "execution_count": 128,
   "id": "76a13497",
   "metadata": {},
   "outputs": [
    {
     "name": "stdout",
     "output_type": "stream",
     "text": [
      "X_train.shape:(25000, 10000) y_train:(25000,)\n"
     ]
    }
   ],
   "source": [
    "print(f'X_train.shape:{X_train.shape} y_train:{y_train.shape}')\n"
   ]
  },
  {
   "cell_type": "code",
   "execution_count": 129,
   "id": "fccc064a",
   "metadata": {},
   "outputs": [],
   "source": [
    "model = models.Sequential([\n",
    "    layers.Dense(16,activation='relu',input_shape=(10000,)),\n",
    "#     layers.Dropout(.5),\n",
    "    layers.Dense(16,activation='relu'),\n",
    "#     layers.Dropout(.5),\n",
    "    layers.Dense(1,activation='sigmoid')\n",
    "])\n",
    "\n",
    "model.compile(\n",
    "    loss='binary_crossentropy',\n",
    "    optimizer='rmsprop',\n",
    "    metrics=['accuracy']\n",
    ")"
   ]
  },
  {
   "cell_type": "code",
   "execution_count": 130,
   "id": "786e7001",
   "metadata": {},
   "outputs": [
    {
     "name": "stdout",
     "output_type": "stream",
     "text": [
      "Epoch 1/10\n",
      " 1/30 [>.............................] - ETA: 9s - loss: 0.6955 - accuracy: 0.4746"
     ]
    },
    {
     "name": "stderr",
     "output_type": "stream",
     "text": [
      "2022-05-11 10:41:01.708593: I tensorflow/core/grappler/optimizers/custom_graph_optimizer_registry.cc:113] Plugin optimizer for device_type GPU is enabled.\n"
     ]
    },
    {
     "name": "stdout",
     "output_type": "stream",
     "text": [
      "30/30 [==============================] - 1s 36ms/step - loss: 0.5100 - accuracy: 0.7836 - val_loss: 0.3726 - val_accuracy: 0.8719\n",
      "Epoch 2/10\n",
      " 1/30 [>.............................] - ETA: 0s - loss: 0.3369 - accuracy: 0.9082"
     ]
    },
    {
     "name": "stderr",
     "output_type": "stream",
     "text": [
      "2022-05-11 10:41:02.719561: I tensorflow/core/grappler/optimizers/custom_graph_optimizer_registry.cc:113] Plugin optimizer for device_type GPU is enabled.\n"
     ]
    },
    {
     "name": "stdout",
     "output_type": "stream",
     "text": [
      "30/30 [==============================] - 0s 16ms/step - loss: 0.2950 - accuracy: 0.9052 - val_loss: 0.3392 - val_accuracy: 0.8611\n",
      "Epoch 3/10\n",
      "30/30 [==============================] - 0s 16ms/step - loss: 0.2205 - accuracy: 0.9285 - val_loss: 0.2805 - val_accuracy: 0.8873\n",
      "Epoch 4/10\n",
      "30/30 [==============================] - 0s 17ms/step - loss: 0.1738 - accuracy: 0.9427 - val_loss: 0.2765 - val_accuracy: 0.8879\n",
      "Epoch 5/10\n",
      "30/30 [==============================] - 0s 16ms/step - loss: 0.1405 - accuracy: 0.9556 - val_loss: 0.3230 - val_accuracy: 0.8736\n",
      "Epoch 6/10\n",
      "30/30 [==============================] - 0s 16ms/step - loss: 0.1168 - accuracy: 0.9641 - val_loss: 0.3173 - val_accuracy: 0.8790\n",
      "Epoch 7/10\n",
      "30/30 [==============================] - 0s 16ms/step - loss: 0.0989 - accuracy: 0.9708 - val_loss: 0.3220 - val_accuracy: 0.8790\n",
      "Epoch 8/10\n",
      "30/30 [==============================] - 0s 15ms/step - loss: 0.0798 - accuracy: 0.9780 - val_loss: 0.3307 - val_accuracy: 0.8804\n",
      "Epoch 9/10\n",
      "30/30 [==============================] - 0s 15ms/step - loss: 0.0663 - accuracy: 0.9834 - val_loss: 0.3532 - val_accuracy: 0.8797\n",
      "Epoch 10/10\n",
      "30/30 [==============================] - 0s 15ms/step - loss: 0.0580 - accuracy: 0.9853 - val_loss: 0.3875 - val_accuracy: 0.8768\n"
     ]
    }
   ],
   "source": [
    "history = model.fit(X_partial,y_partial,epochs=10,batch_size = 512,validation_data=(X_val,y_val))"
   ]
  },
  {
   "cell_type": "code",
   "execution_count": 131,
   "id": "db754e22",
   "metadata": {},
   "outputs": [
    {
     "name": "stdout",
     "output_type": "stream",
     "text": [
      "782/782 [==============================] - 3s 4ms/step - loss: 0.4157 - accuracy: 0.8638\n"
     ]
    },
    {
     "data": {
      "text/plain": [
       "[0.41572409868240356, 0.8637600541114807]"
      ]
     },
     "execution_count": 131,
     "metadata": {},
     "output_type": "execute_result"
    }
   ],
   "source": [
    "model.evaluate(X_test,y_test)"
   ]
  },
  {
   "cell_type": "code",
   "execution_count": 137,
   "id": "d1c3e267",
   "metadata": {},
   "outputs": [
    {
     "data": {
      "text/html": [
       "<div>\n",
       "<style scoped>\n",
       "    .dataframe tbody tr th:only-of-type {\n",
       "        vertical-align: middle;\n",
       "    }\n",
       "\n",
       "    .dataframe tbody tr th {\n",
       "        vertical-align: top;\n",
       "    }\n",
       "\n",
       "    .dataframe thead th {\n",
       "        text-align: right;\n",
       "    }\n",
       "</style>\n",
       "<table border=\"1\" class=\"dataframe\">\n",
       "  <thead>\n",
       "    <tr style=\"text-align: right;\">\n",
       "      <th></th>\n",
       "      <th>loss</th>\n",
       "      <th>accuracy</th>\n",
       "      <th>val_loss</th>\n",
       "      <th>val_accuracy</th>\n",
       "    </tr>\n",
       "  </thead>\n",
       "  <tbody>\n",
       "    <tr>\n",
       "      <th>0</th>\n",
       "      <td>0.510003</td>\n",
       "      <td>0.783600</td>\n",
       "      <td>0.372552</td>\n",
       "      <td>0.8719</td>\n",
       "    </tr>\n",
       "    <tr>\n",
       "      <th>1</th>\n",
       "      <td>0.294991</td>\n",
       "      <td>0.905200</td>\n",
       "      <td>0.339209</td>\n",
       "      <td>0.8611</td>\n",
       "    </tr>\n",
       "    <tr>\n",
       "      <th>2</th>\n",
       "      <td>0.220488</td>\n",
       "      <td>0.928533</td>\n",
       "      <td>0.280530</td>\n",
       "      <td>0.8873</td>\n",
       "    </tr>\n",
       "    <tr>\n",
       "      <th>3</th>\n",
       "      <td>0.173845</td>\n",
       "      <td>0.942733</td>\n",
       "      <td>0.276490</td>\n",
       "      <td>0.8879</td>\n",
       "    </tr>\n",
       "    <tr>\n",
       "      <th>4</th>\n",
       "      <td>0.140537</td>\n",
       "      <td>0.955600</td>\n",
       "      <td>0.322967</td>\n",
       "      <td>0.8736</td>\n",
       "    </tr>\n",
       "    <tr>\n",
       "      <th>5</th>\n",
       "      <td>0.116829</td>\n",
       "      <td>0.964067</td>\n",
       "      <td>0.317279</td>\n",
       "      <td>0.8790</td>\n",
       "    </tr>\n",
       "    <tr>\n",
       "      <th>6</th>\n",
       "      <td>0.098876</td>\n",
       "      <td>0.970800</td>\n",
       "      <td>0.322010</td>\n",
       "      <td>0.8790</td>\n",
       "    </tr>\n",
       "    <tr>\n",
       "      <th>7</th>\n",
       "      <td>0.079786</td>\n",
       "      <td>0.978000</td>\n",
       "      <td>0.330669</td>\n",
       "      <td>0.8804</td>\n",
       "    </tr>\n",
       "    <tr>\n",
       "      <th>8</th>\n",
       "      <td>0.066266</td>\n",
       "      <td>0.983400</td>\n",
       "      <td>0.353209</td>\n",
       "      <td>0.8797</td>\n",
       "    </tr>\n",
       "    <tr>\n",
       "      <th>9</th>\n",
       "      <td>0.058016</td>\n",
       "      <td>0.985333</td>\n",
       "      <td>0.387515</td>\n",
       "      <td>0.8768</td>\n",
       "    </tr>\n",
       "  </tbody>\n",
       "</table>\n",
       "</div>"
      ],
      "text/plain": [
       "       loss  accuracy  val_loss  val_accuracy\n",
       "0  0.510003  0.783600  0.372552        0.8719\n",
       "1  0.294991  0.905200  0.339209        0.8611\n",
       "2  0.220488  0.928533  0.280530        0.8873\n",
       "3  0.173845  0.942733  0.276490        0.8879\n",
       "4  0.140537  0.955600  0.322967        0.8736\n",
       "5  0.116829  0.964067  0.317279        0.8790\n",
       "6  0.098876  0.970800  0.322010        0.8790\n",
       "7  0.079786  0.978000  0.330669        0.8804\n",
       "8  0.066266  0.983400  0.353209        0.8797\n",
       "9  0.058016  0.985333  0.387515        0.8768"
      ]
     },
     "execution_count": 137,
     "metadata": {},
     "output_type": "execute_result"
    }
   ],
   "source": [
    "hist = history.history\n",
    "\n",
    "h = pd.DataFrame(history.history)\n",
    "epochs = np.arange(1,len(h)+1)\n",
    "h\n",
    "\n"
   ]
  },
  {
   "cell_type": "code",
   "execution_count": 138,
   "id": "ce3439ba",
   "metadata": {},
   "outputs": [
    {
     "data": {
      "image/png": "[encoded data removed]",
      "text/plain": [
       "<Figure size 432x288 with 1 Axes>"
      ]
     },
     "metadata": {
      "needs_background": "light"
     },
     "output_type": "display_data"
    }
   ],
   "source": [
    "plt.plot(epochs,hist['loss'],'b-',label='LOSS')\n",
    "plt.plot(epochs,hist['val_loss'],'r-',label='Val_LOSS')\n",
    "plt.xlabel(\"Epochs\")\n",
    "plt.ylabel(\"Loss Values\")\n",
    "plt.legend()\n",
    "plt.show()"
   ]
  },
  {
   "cell_type": "code",
   "execution_count": null,
   "id": "31523ec9",
   "metadata": {},
   "outputs": [],
   "source": [
    "plt.plot(epochs,hist['accuracy'],'b-',label='ACCURACY')\n",
    "plt.plot(epochs,hist['val_accuracy'],'r-',label='Val_ACCURACY')\n",
    "plt.xlabel(\"Accuracy\")\n",
    "plt.ylabel(\"Accuracy Values\")\n",
    "plt.legend()\n",
    "plt.show()"
   ]
  },
  {
   "cell_type": "code",
   "execution_count": null,
   "id": "073ffc1d",
   "metadata": {},
   "outputs": [],
   "source": [
    "history = model.fit(X_partial,y_partial,epochs=3,batch_size = 512,validation_data=(X_val,y_val))"
   ]
  }
 ],
 "metadata": {
  "kernelspec": {
   "display_name": "Python 3 (ipykernel)",
   "language": "python",
   "name": "python3"
  },
  "language_info": {
   "codemirror_mode": {
    "name": "ipython",
    "version": 3
   },
   "file_extension": ".py",
   "mimetype": "text/x-python",
   "name": "python",
   "nbconvert_exporter": "python",
   "pygments_lexer": "ipython3",
   "version": "3.8.13"
  }
 },
 "nbformat": 4,
 "nbformat_minor": 5
}
