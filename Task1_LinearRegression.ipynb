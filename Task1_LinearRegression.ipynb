{
 "cells": [
  {
   "cell_type": "markdown",
   "id": "1b5ee637",
   "metadata": {},
   "source": [
    "# Linear Regression with Python's Sklearn and the Backend Working of that Algorithm\n",
    "    In Linear Regression we make prediction prediction on dependent variable by Drawing a best Fit Line\n"
   ]
  },
  {
   "cell_type": "markdown",
   "id": "76e45c72",
   "metadata": {},
   "source": [
    "By : Param Kesarwani"
   ]
  },
  {
   "cell_type": "code",
   "execution_count": 5,
   "id": "3a5f01d1",
   "metadata": {},
   "outputs": [
    {
     "data": {
      "text/html": [
       "<div>\n",
       "<style scoped>\n",
       "    .dataframe tbody tr th:only-of-type {\n",
       "        vertical-align: middle;\n",
       "    }\n",
       "\n",
       "    .dataframe tbody tr th {\n",
       "        vertical-align: top;\n",
       "    }\n",
       "\n",
       "    .dataframe thead th {\n",
       "        text-align: right;\n",
       "    }\n",
       "</style>\n",
       "<table border=\"1\" class=\"dataframe\">\n",
       "  <thead>\n",
       "    <tr style=\"text-align: right;\">\n",
       "      <th></th>\n",
       "      <th>Hours</th>\n",
       "      <th>Scores</th>\n",
       "    </tr>\n",
       "  </thead>\n",
       "  <tbody>\n",
       "    <tr>\n",
       "      <th>0</th>\n",
       "      <td>2.5</td>\n",
       "      <td>21</td>\n",
       "    </tr>\n",
       "    <tr>\n",
       "      <th>1</th>\n",
       "      <td>5.1</td>\n",
       "      <td>47</td>\n",
       "    </tr>\n",
       "    <tr>\n",
       "      <th>2</th>\n",
       "      <td>3.2</td>\n",
       "      <td>27</td>\n",
       "    </tr>\n",
       "    <tr>\n",
       "      <th>3</th>\n",
       "      <td>8.5</td>\n",
       "      <td>75</td>\n",
       "    </tr>\n",
       "    <tr>\n",
       "      <th>4</th>\n",
       "      <td>3.5</td>\n",
       "      <td>30</td>\n",
       "    </tr>\n",
       "  </tbody>\n",
       "</table>\n",
       "</div>"
      ],
      "text/plain": [
       "   Hours  Scores\n",
       "0    2.5      21\n",
       "1    5.1      47\n",
       "2    3.2      27\n",
       "3    8.5      75\n",
       "4    3.5      30"
      ]
     },
     "execution_count": 5,
     "metadata": {},
     "output_type": "execute_result"
    }
   ],
   "source": [
    "import numpy as np\n",
    "import pandas as pd\n",
    "\n",
    "df=  pd.read_csv('./Student_score.csv')  # Reading The Csv file using pandas library\n",
    "df.head()  # print the top 5 records  "
   ]
  },
  {
   "cell_type": "code",
   "execution_count": 43,
   "id": "40a6389b",
   "metadata": {},
   "outputs": [
    {
     "data": {
      "text/plain": [
       "(25, 2)"
      ]
     },
     "execution_count": 43,
     "metadata": {},
     "output_type": "execute_result"
    }
   ],
   "source": [
    "df.shape  # TO get the shape of dataframe"
   ]
  },
  {
   "cell_type": "code",
   "execution_count": 169,
   "id": "a69c74a0",
   "metadata": {},
   "outputs": [
    {
     "data": {
      "text/plain": [
       "Hours     0\n",
       "Scores    0\n",
       "dtype: int64"
      ]
     },
     "execution_count": 169,
     "metadata": {},
     "output_type": "execute_result"
    }
   ],
   "source": [
    "df.isna().sum()  \n",
    "# To check whether null values are present or Not.isna() method returns a boolean array with 1 for Nan values and 0 for values. \n",
    "#Applyig Sum on that boolean array gives the count of null values in each columns."
   ]
  },
  {
   "cell_type": "code",
   "execution_count": 149,
   "id": "07183997",
   "metadata": {},
   "outputs": [
    {
     "data": {
      "image/png": "[encoded data removed]",
      "text/plain": [
       "<Figure size 432x288 with 1 Axes>"
      ]
     },
     "metadata": {
      "needs_background": "light"
     },
     "output_type": "display_data"
    }
   ],
   "source": [
    "import matplotlib.pyplot as plt\n",
    "plt.xlabel(\"Hours of Study\")\n",
    "plt.ylabel(\"Marks Socred By Student\")\n",
    "plt.title(\"Students Performance Based of No. of Hours of Study\")\n",
    "plt.scatter(x='Hours',y='Scores',data=df)  # Draw a scatter plot to show the relation of Hours and Score column\n",
    "plt.show()"
   ]
  },
  {
   "cell_type": "markdown",
   "id": "c0243c31",
   "metadata": {},
   "source": [
    "The Scatterplot shows a positive Correlation between both the variables , hence a straight line can easily make prediction with least error"
   ]
  },
  {
   "cell_type": "code",
   "execution_count": 171,
   "id": "8af3efab",
   "metadata": {},
   "outputs": [
    {
     "data": {
      "text/html": [
       "<div>\n",
       "<style scoped>\n",
       "    .dataframe tbody tr th:only-of-type {\n",
       "        vertical-align: middle;\n",
       "    }\n",
       "\n",
       "    .dataframe tbody tr th {\n",
       "        vertical-align: top;\n",
       "    }\n",
       "\n",
       "    .dataframe thead th {\n",
       "        text-align: right;\n",
       "    }\n",
       "</style>\n",
       "<table border=\"1\" class=\"dataframe\">\n",
       "  <thead>\n",
       "    <tr style=\"text-align: right;\">\n",
       "      <th></th>\n",
       "      <th>Hours</th>\n",
       "      <th>Scores</th>\n",
       "    </tr>\n",
       "  </thead>\n",
       "  <tbody>\n",
       "    <tr>\n",
       "      <th>Hours</th>\n",
       "      <td>1.000000</td>\n",
       "      <td>0.976191</td>\n",
       "    </tr>\n",
       "    <tr>\n",
       "      <th>Scores</th>\n",
       "      <td>0.976191</td>\n",
       "      <td>1.000000</td>\n",
       "    </tr>\n",
       "  </tbody>\n",
       "</table>\n",
       "</div>"
      ],
      "text/plain": [
       "           Hours    Scores\n",
       "Hours   1.000000  0.976191\n",
       "Scores  0.976191  1.000000"
      ]
     },
     "execution_count": 171,
     "metadata": {},
     "output_type": "execute_result"
    }
   ],
   "source": [
    "df.corr()  # To calculate the correlation btwn the score and Hours . As scatterplot stated , corr values is close to 1"
   ]
  },
  {
   "cell_type": "code",
   "execution_count": 172,
   "id": "0cfc116a",
   "metadata": {},
   "outputs": [
    {
     "name": "stdout",
     "output_type": "stream",
     "text": [
      "0     2.5\n",
      "1     5.1\n",
      "2     3.2\n",
      "3     8.5\n",
      "4     3.5\n",
      "5     1.5\n",
      "6     9.2\n",
      "7     5.5\n",
      "8     8.3\n",
      "9     2.7\n",
      "10    7.7\n",
      "11    5.9\n",
      "12    4.5\n",
      "13    3.3\n",
      "14    1.1\n",
      "15    8.9\n",
      "16    2.5\n",
      "17    1.9\n",
      "18    6.1\n",
      "19    7.4\n",
      "20    2.7\n",
      "Name: Hours, dtype: float64 20    2.7\n",
      "21    4.8\n",
      "22    3.8\n",
      "23    6.9\n",
      "24    7.8\n",
      "Name: Hours, dtype: float64\n"
     ]
    }
   ],
   "source": [
    "a =20\n",
    "#Splitting the data for testing and training purpose . X_train will be used for trainng and X_test for model performance Evaluation\n",
    "X_train,X_test,y_train,y_test = df.loc[:a]['Hours'],df.loc[a:]['Hours'],df.loc[:a]['Scores'],df.loc[a:]['Scores']\n",
    "print(X_train,X_test)"
   ]
  },
  {
   "cell_type": "markdown",
   "id": "bd3e2902",
   "metadata": {},
   "source": [
    "### We will first Implement the Linear Regreesion using Sklearn  Library , then A python code to understand the maths behind it and how sklearn computes these values in backend"
   ]
  },
  {
   "cell_type": "code",
   "execution_count": 173,
   "id": "c3174557",
   "metadata": {},
   "outputs": [
    {
     "data": {
      "text/plain": [
       "0.9275549602056954"
      ]
     },
     "execution_count": 173,
     "metadata": {},
     "output_type": "execute_result"
    }
   ],
   "source": [
    "from sklearn.linear_model import LinearRegression\n",
    "reg = LinearRegression()\n",
    "reg.fit(pd.DataFrame(X_train),y_train)\n",
    "reg.score(pd.DataFrame(X_test),y_test)"
   ]
  },
  {
   "cell_type": "code",
   "execution_count": 174,
   "id": "3cb4476a",
   "metadata": {},
   "outputs": [
    {
     "name": "stdout",
     "output_type": "stream",
     "text": [
      "[28.8386008  48.79042651 39.28955712 68.74225222 77.29303467] \n",
      " 20    30\n",
      "21    54\n",
      "22    35\n",
      "23    76\n",
      "24    86\n",
      "Name: Scores, dtype: int64\n"
     ]
    }
   ],
   "source": [
    "y_pred = reg.predict(pd.DataFrame(X_test))\n",
    "print(y_pred,\"\\n\",y_test)\n"
   ]
  },
  {
   "cell_type": "code",
   "execution_count": null,
   "id": "0c1ac6e6",
   "metadata": {},
   "outputs": [],
   "source": [
    "Since We have only 2 variables then equaion can be expressed as simple Straight line y = mx + b"
   ]
  },
  {
   "cell_type": "code",
   "execution_count": 175,
   "id": "a5784dcb",
   "metadata": {},
   "outputs": [
    {
     "name": "stdout",
     "output_type": "stream",
     "text": [
      "The Model's slope is [9.50086939] and intercept is 3.186253451979155\n"
     ]
    }
   ],
   "source": [
    "m = reg.coef_\n",
    "b = reg.intercept_\n",
    "print(\"The Model's slope is {} and intercept is {}\".format(m,b))"
   ]
  },
  {
   "cell_type": "code",
   "execution_count": 180,
   "id": "33044646",
   "metadata": {},
   "outputs": [
    {
     "data": {
      "image/png": "[encoded data removed]",
      "text/plain": [
       "<Figure size 432x288 with 1 Axes>"
      ]
     },
     "metadata": {
      "needs_background": "light"
     },
     "output_type": "display_data"
    }
   ],
   "source": [
    "plt.xlabel(\"Hours of Study\")\n",
    "plt.ylabel(\"Marks Socred By Student\")\n",
    "plt.title(\"Students Performance Based of No. of Hours of Study\")\n",
    "plt.scatter(x='Hours',y='Scores',data=df,marker='o',color='red')  # Draw a scatter plot to show the relation of Hours and Score column\n",
    "plt.plot(df['Hours'],m*df['Hours'] + b)\n",
    "plt.show()"
   ]
  },
  {
   "cell_type": "markdown",
   "id": "8c033651",
   "metadata": {},
   "source": [
    "The Above plot show the distribution of points(red Dots) and the Regression line(The best line, in blue)"
   ]
  },
  {
   "cell_type": "markdown",
   "id": "4d55a4ec",
   "metadata": {},
   "source": [
    "## Metrics to evaluate the LinearRegression Model"
   ]
  },
  {
   "attachments": {
    "Mse.png": {
     "image/png": "[encoded data removed]"
    }
   },
   "cell_type": "markdown",
   "id": "23dd1f0b",
   "metadata": {},
   "source": [
    "![Mse.png](attachment:Mse.png)"
   ]
  },
  {
   "cell_type": "markdown",
   "id": "3eb01669",
   "metadata": {},
   "source": [
    "y(hat) is the predicted value and y(i) is the truth value "
   ]
  },
  {
   "cell_type": "code",
   "execution_count": 181,
   "id": "19ab3f71",
   "metadata": {},
   "outputs": [
    {
     "name": "stdout",
     "output_type": "stream",
     "text": [
      "Mean Squared Error: 35.07499046681055 \n",
      " Root Mean Squared Error: 5.922414243094664\n"
     ]
    }
   ],
   "source": [
    "### Mean Squared Error(MSE)\n",
    "sum = [(x-y)**2 for x,y in zip(y_pred,y_test)]\n",
    "print(\"Mean Squared Error:\",np.mean(sum),\"\\n\",\"Root Mean Squared Error:\",np.sqrt(np.mean(sum)))"
   ]
  },
  {
   "attachments": {
    "MAE.png": {
     "image/png": "[encoded data removed]"
    }
   },
   "cell_type": "markdown",
   "id": "b1c89834",
   "metadata": {},
   "source": [
    "![MAE.png](attachment:MAE.png)"
   ]
  },
  {
   "cell_type": "code",
   "execution_count": 159,
   "id": "a02e7d0c",
   "metadata": {},
   "outputs": [
    {
     "name": "stdout",
     "output_type": "stream",
     "text": [
      "Mean Absolute Error: 5.325048583410045\n"
     ]
    }
   ],
   "source": [
    "### Mean Absolute Error\n",
    "sum = [np.abs(x-y) for x,y in zip(y_pred,y_test)]\n",
    "print(\"Mean Absolute Error:\",np.mean(sum))"
   ]
  },
  {
   "cell_type": "code",
   "execution_count": 160,
   "id": "f5137572",
   "metadata": {},
   "outputs": [
    {
     "name": "stdout",
     "output_type": "stream",
     "text": [
      "0.9275549602056954\n"
     ]
    }
   ],
   "source": [
    "### Using Sklearn Library calculate the R2\n",
    "from sklearn.metrics import r2_score\n",
    "print(r2_score(y_test,y_pred))"
   ]
  },
  {
   "attachments": {
    "R2.png": {
     "image/png": "[encoded data removed]"
    }
   },
   "cell_type": "markdown",
   "id": "ed81ef1d",
   "metadata": {},
   "source": [
    "![R2.png](attachment:R2.png)\n",
    "\n",
    "Formula to Calculate R2  => yi is the truth value and y(hat) is the predicted val, y(bar) is the mean of y_true\n",
    "\n",
    "R Square measures how much variability in dependent variable can be explained by the model. It is the square of the Correlation Coefficient(R) and that is why it is called R Square. R Square closer to 1 means good predictive performance"
   ]
  },
  {
   "cell_type": "code",
   "execution_count": 161,
   "id": "976a323e",
   "metadata": {},
   "outputs": [
    {
     "data": {
      "text/plain": [
       "0.9275549602056954"
      ]
     },
     "execution_count": 161,
     "metadata": {},
     "output_type": "execute_result"
    }
   ],
   "source": [
    "# Function To Calculate R2 \n",
    "def R2(y_pred,y_true):\n",
    "    mean_of_trueval = np.mean(y_true)\n",
    "    squared_error = [(x-y)**2 for x,y in zip(y_pred,y_true)]\n",
    "    mean_error = [(x-mean_of_trueval)**2 for x in y_true]\n",
    "    return 1-(np.sum(squared_error)/np.sum(mean_error))\n",
    "\n",
    "R2(y_pred,y_test)\n",
    "\n"
   ]
  },
  {
   "cell_type": "markdown",
   "id": "0f1cbf6d",
   "metadata": {},
   "source": [
    "Sklearn LinearRegression uses GradientDescent Algorith to calculate the best fit parameters(m,b in y = mx+b)\n",
    "\n",
    "1.We first initialise the values of m ,b = 0\n",
    "\n",
    "2.Then calulate the partial derivative of loss(Mean Squared Error, as its differentiable unlikely MAE) with resect to parameters\n",
    "\n",
    "\n",
    "3.Using these derivatives we upate our parameters by taking baby steps(learning rate) towards Global Minima, though reducing our loss to best possible value\n",
    "\n"
   ]
  },
  {
   "cell_type": "code",
   "execution_count": 183,
   "id": "feace481",
   "metadata": {},
   "outputs": [],
   "source": [
    "def BatchGradientDescent(X,y):\n",
    "    m = b = 0 # Initial declared the parameters to 0\n",
    "    epochs = 10000  # of times we make a baby steps\n",
    "    n = len(X) # Length of data\n",
    "    learning_rate =  0.001 # by with amount we will approach to global minima\n",
    "    for i in range(epochs):\n",
    "        y_predicted = m * X + b \n",
    "        derivate_of_slope = -(2/n)*np.sum(X*(y - y_predicted))\n",
    "        derivate_of_intercept = -(2/n)*np.sum(y-y_predicted)\n",
    "        b = b - learning_rate * derivate_of_intercept\n",
    "        m = m - learning_rate * derivate_of_slope \n",
    "    return m,b\n",
    "\n",
    "coef , intercept =  BatchGradientDescent(X_train,y_train)\n",
    "        "
   ]
  },
  {
   "cell_type": "code",
   "execution_count": 184,
   "id": "bac81517",
   "metadata": {},
   "outputs": [
    {
     "name": "stdout",
     "output_type": "stream",
     "text": [
      " Models Slope [9.50086939] , Our Slope using Gradient Descent 9.50443998194662\n",
      " Models Intercept 3.186253451979155 , Our Intercept using Gradient Descent 3.164178824583435\n"
     ]
    }
   ],
   "source": [
    "print(\" Models Slope {} , Our Slope using Gradient Descent {}\".format(reg.coef_,coef))\n",
    "print(\" Models Intercept {} , Our Intercept using Gradient Descent {}\".format(reg.intercept_,intercept))"
   ]
  },
  {
   "cell_type": "code",
   "execution_count": 185,
   "id": "29cdc8ce",
   "metadata": {},
   "outputs": [
    {
     "name": "stdout",
     "output_type": "stream",
     "text": [
      "91.08024865758966\n"
     ]
    }
   ],
   "source": [
    "print( coef * 9.25 + intercept)\n",
    "# reg.predict([[9.25]])"
   ]
  }
 ],
 "metadata": {
  "kernelspec": {
   "display_name": "Python 3 (ipykernel)",
   "language": "python",
   "name": "python3"
  },
  "language_info": {
   "codemirror_mode": {
    "name": "ipython",
    "version": 3
   },
   "file_extension": ".py",
   "mimetype": "text/x-python",
   "name": "python",
   "nbconvert_exporter": "python",
   "pygments_lexer": "ipython3",
   "version": "3.9.7"
  }
 },
 "nbformat": 4,
 "nbformat_minor": 5
}
